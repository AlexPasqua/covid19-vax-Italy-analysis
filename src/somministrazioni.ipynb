{
 "cells": [
  {
   "cell_type": "markdown",
   "source": [
    "# Somministrazioni"
   ],
   "metadata": {
    "collapsed": false,
    "pycharm": {
     "name": "#%% md\n"
    }
   }
  },
  {
   "cell_type": "code",
   "execution_count": 18,
   "metadata": {
    "collapsed": true
   },
   "outputs": [],
   "source": [
    "import pandas as pd"
   ]
  },
  {
   "cell_type": "markdown",
   "source": [
    "Read dataset `somministrazioni-vaccini-summary-latest.csv` and print basic info"
   ],
   "metadata": {
    "collapsed": false,
    "pycharm": {
     "name": "#%% md\n"
    }
   }
  },
  {
   "cell_type": "code",
   "execution_count": 19,
   "outputs": [
    {
     "data": {
      "text/plain": "  data_somministrazione area  totale  sesso_maschile  sesso_femminile  \\\n0            2021-02-01  PIE    8639            3053             5586   \n1            2021-02-01  UMB    1260             333              927   \n2            2020-12-31  LOM     713             300              413   \n3            2021-01-04  PAB     469             191              278   \n4            2021-02-23  MOL     527             202              325   \n\n   categoria_operatori_sanitari_sociosanitari  \\\n0                                        6163   \n1                                         876   \n2                                         656   \n3                                         397   \n4                                         136   \n\n   categoria_personale_non_sanitario  categoria_ospiti_rsa  categoria_over80  \\\n0                               1402                  1074                 0   \n1                                 32                   352                 0   \n2                                 57                     0                 0   \n3                                 72                     0                 0   \n4                                 42                     8               340   \n\n   categoria_forze_armate  categoria_personale_scolastico  prima_dose  \\\n0                       0                               0         578   \n1                       0                               0          47   \n2                       0                               0         713   \n3                       0                               0         469   \n4                       0                               1         362   \n\n   seconda_dose codice_NUTS1 codice_NUTS2  codice_regione_ISTAT  \\\n0          8061          ITC         ITC1                     1   \n1          1213          ITI         ITI2                    10   \n2             0          ITC         ITC4                     3   \n3             0          ITH         ITH1                     4   \n4           165          ITF         ITF2                    14   \n\n                            nome_area  \n0                            Piemonte  \n1                              Umbria  \n2                           Lombardia  \n3  Provincia Autonoma Bolzano / Bozen  \n4                              Molise  ",
      "text/html": "<div>\n<style scoped>\n    .dataframe tbody tr th:only-of-type {\n        vertical-align: middle;\n    }\n\n    .dataframe tbody tr th {\n        vertical-align: top;\n    }\n\n    .dataframe thead th {\n        text-align: right;\n    }\n</style>\n<table border=\"1\" class=\"dataframe\">\n  <thead>\n    <tr style=\"text-align: right;\">\n      <th></th>\n      <th>data_somministrazione</th>\n      <th>area</th>\n      <th>totale</th>\n      <th>sesso_maschile</th>\n      <th>sesso_femminile</th>\n      <th>categoria_operatori_sanitari_sociosanitari</th>\n      <th>categoria_personale_non_sanitario</th>\n      <th>categoria_ospiti_rsa</th>\n      <th>categoria_over80</th>\n      <th>categoria_forze_armate</th>\n      <th>categoria_personale_scolastico</th>\n      <th>prima_dose</th>\n      <th>seconda_dose</th>\n      <th>codice_NUTS1</th>\n      <th>codice_NUTS2</th>\n      <th>codice_regione_ISTAT</th>\n      <th>nome_area</th>\n    </tr>\n  </thead>\n  <tbody>\n    <tr>\n      <th>0</th>\n      <td>2021-02-01</td>\n      <td>PIE</td>\n      <td>8639</td>\n      <td>3053</td>\n      <td>5586</td>\n      <td>6163</td>\n      <td>1402</td>\n      <td>1074</td>\n      <td>0</td>\n      <td>0</td>\n      <td>0</td>\n      <td>578</td>\n      <td>8061</td>\n      <td>ITC</td>\n      <td>ITC1</td>\n      <td>1</td>\n      <td>Piemonte</td>\n    </tr>\n    <tr>\n      <th>1</th>\n      <td>2021-02-01</td>\n      <td>UMB</td>\n      <td>1260</td>\n      <td>333</td>\n      <td>927</td>\n      <td>876</td>\n      <td>32</td>\n      <td>352</td>\n      <td>0</td>\n      <td>0</td>\n      <td>0</td>\n      <td>47</td>\n      <td>1213</td>\n      <td>ITI</td>\n      <td>ITI2</td>\n      <td>10</td>\n      <td>Umbria</td>\n    </tr>\n    <tr>\n      <th>2</th>\n      <td>2020-12-31</td>\n      <td>LOM</td>\n      <td>713</td>\n      <td>300</td>\n      <td>413</td>\n      <td>656</td>\n      <td>57</td>\n      <td>0</td>\n      <td>0</td>\n      <td>0</td>\n      <td>0</td>\n      <td>713</td>\n      <td>0</td>\n      <td>ITC</td>\n      <td>ITC4</td>\n      <td>3</td>\n      <td>Lombardia</td>\n    </tr>\n    <tr>\n      <th>3</th>\n      <td>2021-01-04</td>\n      <td>PAB</td>\n      <td>469</td>\n      <td>191</td>\n      <td>278</td>\n      <td>397</td>\n      <td>72</td>\n      <td>0</td>\n      <td>0</td>\n      <td>0</td>\n      <td>0</td>\n      <td>469</td>\n      <td>0</td>\n      <td>ITH</td>\n      <td>ITH1</td>\n      <td>4</td>\n      <td>Provincia Autonoma Bolzano / Bozen</td>\n    </tr>\n    <tr>\n      <th>4</th>\n      <td>2021-02-23</td>\n      <td>MOL</td>\n      <td>527</td>\n      <td>202</td>\n      <td>325</td>\n      <td>136</td>\n      <td>42</td>\n      <td>8</td>\n      <td>340</td>\n      <td>0</td>\n      <td>1</td>\n      <td>362</td>\n      <td>165</td>\n      <td>ITF</td>\n      <td>ITF2</td>\n      <td>14</td>\n      <td>Molise</td>\n    </tr>\n  </tbody>\n</table>\n</div>"
     },
     "execution_count": 19,
     "metadata": {},
     "output_type": "execute_result"
    }
   ],
   "source": [
    "dir = \"../covid19-opendata-vaccini/dati/\"\n",
    "file = \"somministrazioni-vaccini-summary-latest.csv\"\n",
    "df = pd.read_csv(dir + file)\n",
    "df.head()"
   ],
   "metadata": {
    "collapsed": false,
    "pycharm": {
     "name": "#%%\n"
    }
   }
  },
  {
   "cell_type": "code",
   "execution_count": 20,
   "outputs": [
    {
     "name": "stdout",
     "output_type": "stream",
     "text": [
      "<class 'pandas.core.frame.DataFrame'>\n",
      "RangeIndex: 1271 entries, 0 to 1270\n",
      "Data columns (total 17 columns):\n",
      " #   Column                                      Non-Null Count  Dtype \n",
      "---  ------                                      --------------  ----- \n",
      " 0   data_somministrazione                       1271 non-null   object\n",
      " 1   area                                        1271 non-null   object\n",
      " 2   totale                                      1271 non-null   int64 \n",
      " 3   sesso_maschile                              1271 non-null   int64 \n",
      " 4   sesso_femminile                             1271 non-null   int64 \n",
      " 5   categoria_operatori_sanitari_sociosanitari  1271 non-null   int64 \n",
      " 6   categoria_personale_non_sanitario           1271 non-null   int64 \n",
      " 7   categoria_ospiti_rsa                        1271 non-null   int64 \n",
      " 8   categoria_over80                            1271 non-null   int64 \n",
      " 9   categoria_forze_armate                      1271 non-null   int64 \n",
      " 10  categoria_personale_scolastico              1271 non-null   int64 \n",
      " 11  prima_dose                                  1271 non-null   int64 \n",
      " 12  seconda_dose                                1271 non-null   int64 \n",
      " 13  codice_NUTS1                                1271 non-null   object\n",
      " 14  codice_NUTS2                                1271 non-null   object\n",
      " 15  codice_regione_ISTAT                        1271 non-null   int64 \n",
      " 16  nome_area                                   1271 non-null   object\n",
      "dtypes: int64(12), object(5)\n",
      "memory usage: 168.9+ KB\n"
     ]
    }
   ],
   "source": [
    "df.info()"
   ],
   "metadata": {
    "collapsed": false,
    "pycharm": {
     "name": "#%%\n"
    }
   }
  },
  {
   "cell_type": "code",
   "execution_count": 21,
   "outputs": [
    {
     "data": {
      "text/plain": "             totale  sesso_maschile  sesso_femminile  \\\ncount   1271.000000     1271.000000      1271.000000   \nmean    3370.515342     1286.628639      2083.886703   \nstd     3664.616308     1362.118700      2363.495901   \nmin        1.000000        0.000000         0.000000   \n25%      730.500000      274.500000       437.000000   \n50%     1916.000000      736.000000      1177.000000   \n75%     5210.500000     1954.500000      3093.000000   \nmax    26769.000000     7880.000000     18930.000000   \n\n       categoria_operatori_sanitari_sociosanitari  \\\ncount                                 1271.000000   \nmean                                  1833.510622   \nstd                                   2179.299857   \nmin                                      0.000000   \n25%                                    326.500000   \n50%                                    940.000000   \n75%                                   2590.000000   \nmax                                  15187.000000   \n\n       categoria_personale_non_sanitario  categoria_ospiti_rsa  \\\ncount                        1271.000000           1271.000000   \nmean                          574.586939            312.675059   \nstd                           921.973942            507.332638   \nmin                             0.000000              0.000000   \n25%                            62.000000             18.000000   \n50%                           265.000000            151.000000   \n75%                           638.000000            391.500000   \nmax                          9914.000000           5436.000000   \n\n       categoria_over80  categoria_forze_armate  \\\ncount       1271.000000             1271.000000   \nmean         480.731707               48.828482   \nstd         1289.601956              218.374270   \nmin            0.000000                0.000000   \n25%            0.000000                0.000000   \n50%            0.000000                0.000000   \n75%           90.000000                0.000000   \nmax         9674.000000             1882.000000   \n\n       categoria_personale_scolastico    prima_dose  seconda_dose  \\\ncount                     1271.000000   1271.000000   1271.000000   \nmean                       120.182533   2269.975610   1100.539732   \nstd                        584.976690   3148.261465   2404.907816   \nmin                          0.000000      0.000000      0.000000   \n25%                          0.000000    231.500000      0.000000   \n50%                          0.000000    880.000000    144.000000   \n75%                          1.000000   3007.000000    891.000000   \nmax                       7056.000000  26187.000000  24905.000000   \n\n       codice_regione_ISTAT  \ncount           1271.000000  \nmean              10.202990  \nstd                5.822548  \nmin                1.000000  \n25%                5.000000  \n50%               10.000000  \n75%               15.000000  \nmax               20.000000  ",
      "text/html": "<div>\n<style scoped>\n    .dataframe tbody tr th:only-of-type {\n        vertical-align: middle;\n    }\n\n    .dataframe tbody tr th {\n        vertical-align: top;\n    }\n\n    .dataframe thead th {\n        text-align: right;\n    }\n</style>\n<table border=\"1\" class=\"dataframe\">\n  <thead>\n    <tr style=\"text-align: right;\">\n      <th></th>\n      <th>totale</th>\n      <th>sesso_maschile</th>\n      <th>sesso_femminile</th>\n      <th>categoria_operatori_sanitari_sociosanitari</th>\n      <th>categoria_personale_non_sanitario</th>\n      <th>categoria_ospiti_rsa</th>\n      <th>categoria_over80</th>\n      <th>categoria_forze_armate</th>\n      <th>categoria_personale_scolastico</th>\n      <th>prima_dose</th>\n      <th>seconda_dose</th>\n      <th>codice_regione_ISTAT</th>\n    </tr>\n  </thead>\n  <tbody>\n    <tr>\n      <th>count</th>\n      <td>1271.000000</td>\n      <td>1271.000000</td>\n      <td>1271.000000</td>\n      <td>1271.000000</td>\n      <td>1271.000000</td>\n      <td>1271.000000</td>\n      <td>1271.000000</td>\n      <td>1271.000000</td>\n      <td>1271.000000</td>\n      <td>1271.000000</td>\n      <td>1271.000000</td>\n      <td>1271.000000</td>\n    </tr>\n    <tr>\n      <th>mean</th>\n      <td>3370.515342</td>\n      <td>1286.628639</td>\n      <td>2083.886703</td>\n      <td>1833.510622</td>\n      <td>574.586939</td>\n      <td>312.675059</td>\n      <td>480.731707</td>\n      <td>48.828482</td>\n      <td>120.182533</td>\n      <td>2269.975610</td>\n      <td>1100.539732</td>\n      <td>10.202990</td>\n    </tr>\n    <tr>\n      <th>std</th>\n      <td>3664.616308</td>\n      <td>1362.118700</td>\n      <td>2363.495901</td>\n      <td>2179.299857</td>\n      <td>921.973942</td>\n      <td>507.332638</td>\n      <td>1289.601956</td>\n      <td>218.374270</td>\n      <td>584.976690</td>\n      <td>3148.261465</td>\n      <td>2404.907816</td>\n      <td>5.822548</td>\n    </tr>\n    <tr>\n      <th>min</th>\n      <td>1.000000</td>\n      <td>0.000000</td>\n      <td>0.000000</td>\n      <td>0.000000</td>\n      <td>0.000000</td>\n      <td>0.000000</td>\n      <td>0.000000</td>\n      <td>0.000000</td>\n      <td>0.000000</td>\n      <td>0.000000</td>\n      <td>0.000000</td>\n      <td>1.000000</td>\n    </tr>\n    <tr>\n      <th>25%</th>\n      <td>730.500000</td>\n      <td>274.500000</td>\n      <td>437.000000</td>\n      <td>326.500000</td>\n      <td>62.000000</td>\n      <td>18.000000</td>\n      <td>0.000000</td>\n      <td>0.000000</td>\n      <td>0.000000</td>\n      <td>231.500000</td>\n      <td>0.000000</td>\n      <td>5.000000</td>\n    </tr>\n    <tr>\n      <th>50%</th>\n      <td>1916.000000</td>\n      <td>736.000000</td>\n      <td>1177.000000</td>\n      <td>940.000000</td>\n      <td>265.000000</td>\n      <td>151.000000</td>\n      <td>0.000000</td>\n      <td>0.000000</td>\n      <td>0.000000</td>\n      <td>880.000000</td>\n      <td>144.000000</td>\n      <td>10.000000</td>\n    </tr>\n    <tr>\n      <th>75%</th>\n      <td>5210.500000</td>\n      <td>1954.500000</td>\n      <td>3093.000000</td>\n      <td>2590.000000</td>\n      <td>638.000000</td>\n      <td>391.500000</td>\n      <td>90.000000</td>\n      <td>0.000000</td>\n      <td>1.000000</td>\n      <td>3007.000000</td>\n      <td>891.000000</td>\n      <td>15.000000</td>\n    </tr>\n    <tr>\n      <th>max</th>\n      <td>26769.000000</td>\n      <td>7880.000000</td>\n      <td>18930.000000</td>\n      <td>15187.000000</td>\n      <td>9914.000000</td>\n      <td>5436.000000</td>\n      <td>9674.000000</td>\n      <td>1882.000000</td>\n      <td>7056.000000</td>\n      <td>26187.000000</td>\n      <td>24905.000000</td>\n      <td>20.000000</td>\n    </tr>\n  </tbody>\n</table>\n</div>"
     },
     "execution_count": 21,
     "metadata": {},
     "output_type": "execute_result"
    }
   ],
   "source": [
    "df.describe()"
   ],
   "metadata": {
    "collapsed": false,
    "pycharm": {
     "name": "#%%\n"
    }
   }
  },
  {
   "cell_type": "markdown",
   "source": [
    "#### Total number of vaccine administrations performed so far:"
   ],
   "metadata": {
    "collapsed": false,
    "pycharm": {
     "name": "#%% md\n"
    }
   }
  },
  {
   "cell_type": "code",
   "execution_count": 22,
   "outputs": [
    {
     "data": {
      "text/plain": "4283925"
     },
     "execution_count": 22,
     "metadata": {},
     "output_type": "execute_result"
    }
   ],
   "source": [
    "df['totale'].sum()\n"
   ],
   "metadata": {
    "collapsed": false,
    "pycharm": {
     "name": "#%%\n"
    }
   }
  }
 ],
 "metadata": {
  "kernelspec": {
   "display_name": "Python 3",
   "language": "python",
   "name": "python3"
  },
  "language_info": {
   "codemirror_mode": {
    "name": "ipython",
    "version": 2
   },
   "file_extension": ".py",
   "mimetype": "text/x-python",
   "name": "python",
   "nbconvert_exporter": "python",
   "pygments_lexer": "ipython2",
   "version": "2.7.6"
  }
 },
 "nbformat": 4,
 "nbformat_minor": 0
}