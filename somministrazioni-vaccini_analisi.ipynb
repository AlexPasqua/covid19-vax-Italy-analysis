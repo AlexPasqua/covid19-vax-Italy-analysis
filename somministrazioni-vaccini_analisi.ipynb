{
 "cells": [
  {
   "cell_type": "code",
   "execution_count": 2,
   "metadata": {
    "collapsed": true
   },
   "outputs": [],
   "source": [
    "import pandas as pd\n",
    "import plotly.express as px\n",
    "from plotly.offline import iplot\n",
    "from plotly.subplots import make_subplots\n",
    "import plotly.graph_objects as go"
   ]
  },
  {
   "cell_type": "code",
   "execution_count": 3,
   "outputs": [
    {
     "data": {
      "text/plain": "  data_somministrazione        fornitore area fascia_anagrafica  \\\n0            2020-12-27  Pfizer/BioNTech  ABR             20-29   \n1            2020-12-27  Pfizer/BioNTech  ABR             30-39   \n2            2020-12-27  Pfizer/BioNTech  ABR             40-49   \n3            2020-12-27  Pfizer/BioNTech  ABR             50-59   \n4            2020-12-27  Pfizer/BioNTech  ABR             60-69   \n\n   sesso_maschile  sesso_femminile  \\\n0               1                0   \n1               1                3   \n2               1                6   \n3               4                5   \n4              10                4   \n\n   categoria_operatori_sanitari_sociosanitari  \\\n0                                           1   \n1                                           4   \n2                                           7   \n3                                           9   \n4                                          13   \n\n   categoria_personale_non_sanitario  categoria_ospiti_rsa  categoria_over80  \\\n0                                  0                     0                 0   \n1                                  0                     0                 0   \n2                                  0                     0                 0   \n3                                  0                     0                 0   \n4                                  1                     0                 0   \n\n   categoria_forze_armate  categoria_personale_scolastico  prima_dose  \\\n0                       0                               0           1   \n1                       0                               0           4   \n2                       0                               0           7   \n3                       0                               0           9   \n4                       0                               0          14   \n\n   seconda_dose codice_NUTS1 codice_NUTS2  codice_regione_ISTAT nome_area  \n0             0          ITF         ITF1                    13   Abruzzo  \n1             0          ITF         ITF1                    13   Abruzzo  \n2             0          ITF         ITF1                    13   Abruzzo  \n3             0          ITF         ITF1                    13   Abruzzo  \n4             0          ITF         ITF1                    13   Abruzzo  ",
      "text/html": "<div>\n<style scoped>\n    .dataframe tbody tr th:only-of-type {\n        vertical-align: middle;\n    }\n\n    .dataframe tbody tr th {\n        vertical-align: top;\n    }\n\n    .dataframe thead th {\n        text-align: right;\n    }\n</style>\n<table border=\"1\" class=\"dataframe\">\n  <thead>\n    <tr style=\"text-align: right;\">\n      <th></th>\n      <th>data_somministrazione</th>\n      <th>fornitore</th>\n      <th>area</th>\n      <th>fascia_anagrafica</th>\n      <th>sesso_maschile</th>\n      <th>sesso_femminile</th>\n      <th>categoria_operatori_sanitari_sociosanitari</th>\n      <th>categoria_personale_non_sanitario</th>\n      <th>categoria_ospiti_rsa</th>\n      <th>categoria_over80</th>\n      <th>categoria_forze_armate</th>\n      <th>categoria_personale_scolastico</th>\n      <th>prima_dose</th>\n      <th>seconda_dose</th>\n      <th>codice_NUTS1</th>\n      <th>codice_NUTS2</th>\n      <th>codice_regione_ISTAT</th>\n      <th>nome_area</th>\n    </tr>\n  </thead>\n  <tbody>\n    <tr>\n      <th>0</th>\n      <td>2020-12-27</td>\n      <td>Pfizer/BioNTech</td>\n      <td>ABR</td>\n      <td>20-29</td>\n      <td>1</td>\n      <td>0</td>\n      <td>1</td>\n      <td>0</td>\n      <td>0</td>\n      <td>0</td>\n      <td>0</td>\n      <td>0</td>\n      <td>1</td>\n      <td>0</td>\n      <td>ITF</td>\n      <td>ITF1</td>\n      <td>13</td>\n      <td>Abruzzo</td>\n    </tr>\n    <tr>\n      <th>1</th>\n      <td>2020-12-27</td>\n      <td>Pfizer/BioNTech</td>\n      <td>ABR</td>\n      <td>30-39</td>\n      <td>1</td>\n      <td>3</td>\n      <td>4</td>\n      <td>0</td>\n      <td>0</td>\n      <td>0</td>\n      <td>0</td>\n      <td>0</td>\n      <td>4</td>\n      <td>0</td>\n      <td>ITF</td>\n      <td>ITF1</td>\n      <td>13</td>\n      <td>Abruzzo</td>\n    </tr>\n    <tr>\n      <th>2</th>\n      <td>2020-12-27</td>\n      <td>Pfizer/BioNTech</td>\n      <td>ABR</td>\n      <td>40-49</td>\n      <td>1</td>\n      <td>6</td>\n      <td>7</td>\n      <td>0</td>\n      <td>0</td>\n      <td>0</td>\n      <td>0</td>\n      <td>0</td>\n      <td>7</td>\n      <td>0</td>\n      <td>ITF</td>\n      <td>ITF1</td>\n      <td>13</td>\n      <td>Abruzzo</td>\n    </tr>\n    <tr>\n      <th>3</th>\n      <td>2020-12-27</td>\n      <td>Pfizer/BioNTech</td>\n      <td>ABR</td>\n      <td>50-59</td>\n      <td>4</td>\n      <td>5</td>\n      <td>9</td>\n      <td>0</td>\n      <td>0</td>\n      <td>0</td>\n      <td>0</td>\n      <td>0</td>\n      <td>9</td>\n      <td>0</td>\n      <td>ITF</td>\n      <td>ITF1</td>\n      <td>13</td>\n      <td>Abruzzo</td>\n    </tr>\n    <tr>\n      <th>4</th>\n      <td>2020-12-27</td>\n      <td>Pfizer/BioNTech</td>\n      <td>ABR</td>\n      <td>60-69</td>\n      <td>10</td>\n      <td>4</td>\n      <td>13</td>\n      <td>1</td>\n      <td>0</td>\n      <td>0</td>\n      <td>0</td>\n      <td>0</td>\n      <td>14</td>\n      <td>0</td>\n      <td>ITF</td>\n      <td>ITF1</td>\n      <td>13</td>\n      <td>Abruzzo</td>\n    </tr>\n  </tbody>\n</table>\n</div>"
     },
     "execution_count": 3,
     "metadata": {},
     "output_type": "execute_result"
    }
   ],
   "source": [
    "som_vaccini = pd.read_csv('/Users/gaetanoantonicchio/Documents/GitHub/covid19-vax-Italy-analysis/covid19-opendata-vaccini/dati/somministrazioni-vaccini-latest.csv')\n",
    "som_vaccini.head()"
   ],
   "metadata": {
    "collapsed": false,
    "pycharm": {
     "name": "#%%\n"
    }
   }
  },
  {
   "cell_type": "code",
   "execution_count": 4,
   "outputs": [],
   "source": [
    "#som_vaccini.describe()"
   ],
   "metadata": {
    "collapsed": false,
    "pycharm": {
     "name": "#%%\n"
    }
   }
  },
  {
   "cell_type": "markdown",
   "source": [
    "# 1. Analisi somministrazioni vaccini <br> fornitore: Pfizer/BioNTech"
   ],
   "metadata": {
    "collapsed": false,
    "pycharm": {
     "name": "#%% md\n"
    }
   }
  },
  {
   "cell_type": "code",
   "execution_count": 5,
   "outputs": [
    {
     "data": {
      "text/plain": "  data_somministrazione        fornitore area fascia_anagrafica  \\\n0            2020-12-27  Pfizer/BioNTech  ABR             20-29   \n1            2020-12-27  Pfizer/BioNTech  ABR             30-39   \n2            2020-12-27  Pfizer/BioNTech  ABR             40-49   \n3            2020-12-27  Pfizer/BioNTech  ABR             50-59   \n4            2020-12-27  Pfizer/BioNTech  ABR             60-69   \n\n   sesso_maschile  sesso_femminile  \\\n0               1                0   \n1               1                3   \n2               1                6   \n3               4                5   \n4              10                4   \n\n   categoria_operatori_sanitari_sociosanitari  \\\n0                                           1   \n1                                           4   \n2                                           7   \n3                                           9   \n4                                          13   \n\n   categoria_personale_non_sanitario  categoria_ospiti_rsa  categoria_over80  \\\n0                                  0                     0                 0   \n1                                  0                     0                 0   \n2                                  0                     0                 0   \n3                                  0                     0                 0   \n4                                  1                     0                 0   \n\n   categoria_forze_armate  categoria_personale_scolastico  prima_dose  \\\n0                       0                               0           1   \n1                       0                               0           4   \n2                       0                               0           7   \n3                       0                               0           9   \n4                       0                               0          14   \n\n   seconda_dose codice_NUTS1 codice_NUTS2  codice_regione_ISTAT nome_area  \n0             0          ITF         ITF1                    13   Abruzzo  \n1             0          ITF         ITF1                    13   Abruzzo  \n2             0          ITF         ITF1                    13   Abruzzo  \n3             0          ITF         ITF1                    13   Abruzzo  \n4             0          ITF         ITF1                    13   Abruzzo  ",
      "text/html": "<div>\n<style scoped>\n    .dataframe tbody tr th:only-of-type {\n        vertical-align: middle;\n    }\n\n    .dataframe tbody tr th {\n        vertical-align: top;\n    }\n\n    .dataframe thead th {\n        text-align: right;\n    }\n</style>\n<table border=\"1\" class=\"dataframe\">\n  <thead>\n    <tr style=\"text-align: right;\">\n      <th></th>\n      <th>data_somministrazione</th>\n      <th>fornitore</th>\n      <th>area</th>\n      <th>fascia_anagrafica</th>\n      <th>sesso_maschile</th>\n      <th>sesso_femminile</th>\n      <th>categoria_operatori_sanitari_sociosanitari</th>\n      <th>categoria_personale_non_sanitario</th>\n      <th>categoria_ospiti_rsa</th>\n      <th>categoria_over80</th>\n      <th>categoria_forze_armate</th>\n      <th>categoria_personale_scolastico</th>\n      <th>prima_dose</th>\n      <th>seconda_dose</th>\n      <th>codice_NUTS1</th>\n      <th>codice_NUTS2</th>\n      <th>codice_regione_ISTAT</th>\n      <th>nome_area</th>\n    </tr>\n  </thead>\n  <tbody>\n    <tr>\n      <th>0</th>\n      <td>2020-12-27</td>\n      <td>Pfizer/BioNTech</td>\n      <td>ABR</td>\n      <td>20-29</td>\n      <td>1</td>\n      <td>0</td>\n      <td>1</td>\n      <td>0</td>\n      <td>0</td>\n      <td>0</td>\n      <td>0</td>\n      <td>0</td>\n      <td>1</td>\n      <td>0</td>\n      <td>ITF</td>\n      <td>ITF1</td>\n      <td>13</td>\n      <td>Abruzzo</td>\n    </tr>\n    <tr>\n      <th>1</th>\n      <td>2020-12-27</td>\n      <td>Pfizer/BioNTech</td>\n      <td>ABR</td>\n      <td>30-39</td>\n      <td>1</td>\n      <td>3</td>\n      <td>4</td>\n      <td>0</td>\n      <td>0</td>\n      <td>0</td>\n      <td>0</td>\n      <td>0</td>\n      <td>4</td>\n      <td>0</td>\n      <td>ITF</td>\n      <td>ITF1</td>\n      <td>13</td>\n      <td>Abruzzo</td>\n    </tr>\n    <tr>\n      <th>2</th>\n      <td>2020-12-27</td>\n      <td>Pfizer/BioNTech</td>\n      <td>ABR</td>\n      <td>40-49</td>\n      <td>1</td>\n      <td>6</td>\n      <td>7</td>\n      <td>0</td>\n      <td>0</td>\n      <td>0</td>\n      <td>0</td>\n      <td>0</td>\n      <td>7</td>\n      <td>0</td>\n      <td>ITF</td>\n      <td>ITF1</td>\n      <td>13</td>\n      <td>Abruzzo</td>\n    </tr>\n    <tr>\n      <th>3</th>\n      <td>2020-12-27</td>\n      <td>Pfizer/BioNTech</td>\n      <td>ABR</td>\n      <td>50-59</td>\n      <td>4</td>\n      <td>5</td>\n      <td>9</td>\n      <td>0</td>\n      <td>0</td>\n      <td>0</td>\n      <td>0</td>\n      <td>0</td>\n      <td>9</td>\n      <td>0</td>\n      <td>ITF</td>\n      <td>ITF1</td>\n      <td>13</td>\n      <td>Abruzzo</td>\n    </tr>\n    <tr>\n      <th>4</th>\n      <td>2020-12-27</td>\n      <td>Pfizer/BioNTech</td>\n      <td>ABR</td>\n      <td>60-69</td>\n      <td>10</td>\n      <td>4</td>\n      <td>13</td>\n      <td>1</td>\n      <td>0</td>\n      <td>0</td>\n      <td>0</td>\n      <td>0</td>\n      <td>14</td>\n      <td>0</td>\n      <td>ITF</td>\n      <td>ITF1</td>\n      <td>13</td>\n      <td>Abruzzo</td>\n    </tr>\n  </tbody>\n</table>\n</div>"
     },
     "execution_count": 5,
     "metadata": {},
     "output_type": "execute_result"
    }
   ],
   "source": [
    "pfizer_biotech = som_vaccini.loc[(som_vaccini['fornitore'] == 'Pfizer/BioNTech')]\n",
    "pfizer_biotech.head()"
   ],
   "metadata": {
    "collapsed": false,
    "pycharm": {
     "name": "#%%\n"
    }
   }
  },
  {
   "cell_type": "markdown",
   "source": [
    "## a) Numero di dosi (tot) per regione"
   ],
   "metadata": {
    "collapsed": false,
    "pycharm": {
     "name": "#%% md\n"
    }
   }
  },
  {
   "cell_type": "code",
   "execution_count": 6,
   "outputs": [
    {
     "data": {
      "text/plain": "        nome_area  prima_dose  seconda_dose\n0         Abruzzo       45335         20792\n1      Basilicata       27763         11322\n2        Calabria       54923         36297\n3        Campania      210334        105668\n4  Emilia-Romagna      224261        132034",
      "text/html": "<div>\n<style scoped>\n    .dataframe tbody tr th:only-of-type {\n        vertical-align: middle;\n    }\n\n    .dataframe tbody tr th {\n        vertical-align: top;\n    }\n\n    .dataframe thead th {\n        text-align: right;\n    }\n</style>\n<table border=\"1\" class=\"dataframe\">\n  <thead>\n    <tr style=\"text-align: right;\">\n      <th></th>\n      <th>nome_area</th>\n      <th>prima_dose</th>\n      <th>seconda_dose</th>\n    </tr>\n  </thead>\n  <tbody>\n    <tr>\n      <th>0</th>\n      <td>Abruzzo</td>\n      <td>45335</td>\n      <td>20792</td>\n    </tr>\n    <tr>\n      <th>1</th>\n      <td>Basilicata</td>\n      <td>27763</td>\n      <td>11322</td>\n    </tr>\n    <tr>\n      <th>2</th>\n      <td>Calabria</td>\n      <td>54923</td>\n      <td>36297</td>\n    </tr>\n    <tr>\n      <th>3</th>\n      <td>Campania</td>\n      <td>210334</td>\n      <td>105668</td>\n    </tr>\n    <tr>\n      <th>4</th>\n      <td>Emilia-Romagna</td>\n      <td>224261</td>\n      <td>132034</td>\n    </tr>\n  </tbody>\n</table>\n</div>"
     },
     "execution_count": 6,
     "metadata": {},
     "output_type": "execute_result"
    }
   ],
   "source": [
    "dosi_tot = pfizer_biotech[['data_somministrazione', 'prima_dose', 'seconda_dose','nome_area']].groupby(['nome_area']).sum()\n",
    "dosi_tot.reset_index(inplace=True)\n",
    "dosi_tot.head()"
   ],
   "metadata": {
    "collapsed": false,
    "pycharm": {
     "name": "#%%\n"
    }
   }
  },
  {
   "cell_type": "code",
   "execution_count": 21,
   "outputs": [
    {
     "data": {
      "application/vnd.plotly.v1+json": {
       "config": {
        "plotlyServerURL": "https://plot.ly"
       },
       "data": [
        {
         "alignmentgroup": "True",
         "bingroup": "x",
         "histfunc": "sum",
         "hovertemplate": "nome_area=%{x}<br>sum of prima_dose=%{y}<extra></extra>",
         "legendgroup": "Abruzzo",
         "marker": {
          "color": "#636efa",
          "opacity": 0.5
         },
         "name": "Abruzzo",
         "offsetgroup": "Abruzzo",
         "orientation": "v",
         "showlegend": true,
         "type": "histogram",
         "x": [
          "Abruzzo"
         ],
         "xaxis": "x",
         "y": [
          45335
         ],
         "yaxis": "y"
        },
        {
         "alignmentgroup": "True",
         "bingroup": "x",
         "histfunc": "sum",
         "hovertemplate": "nome_area=%{x}<br>sum of prima_dose=%{y}<extra></extra>",
         "legendgroup": "Basilicata",
         "marker": {
          "color": "#EF553B",
          "opacity": 0.5
         },
         "name": "Basilicata",
         "offsetgroup": "Basilicata",
         "orientation": "v",
         "showlegend": true,
         "type": "histogram",
         "x": [
          "Basilicata"
         ],
         "xaxis": "x",
         "y": [
          27763
         ],
         "yaxis": "y"
        },
        {
         "alignmentgroup": "True",
         "bingroup": "x",
         "histfunc": "sum",
         "hovertemplate": "nome_area=%{x}<br>sum of prima_dose=%{y}<extra></extra>",
         "legendgroup": "Calabria",
         "marker": {
          "color": "#00cc96",
          "opacity": 0.5
         },
         "name": "Calabria",
         "offsetgroup": "Calabria",
         "orientation": "v",
         "showlegend": true,
         "type": "histogram",
         "x": [
          "Calabria"
         ],
         "xaxis": "x",
         "y": [
          54923
         ],
         "yaxis": "y"
        },
        {
         "alignmentgroup": "True",
         "bingroup": "x",
         "histfunc": "sum",
         "hovertemplate": "nome_area=%{x}<br>sum of prima_dose=%{y}<extra></extra>",
         "legendgroup": "Campania",
         "marker": {
          "color": "#ab63fa",
          "opacity": 0.5
         },
         "name": "Campania",
         "offsetgroup": "Campania",
         "orientation": "v",
         "showlegend": true,
         "type": "histogram",
         "x": [
          "Campania"
         ],
         "xaxis": "x",
         "y": [
          210334
         ],
         "yaxis": "y"
        },
        {
         "alignmentgroup": "True",
         "bingroup": "x",
         "histfunc": "sum",
         "hovertemplate": "nome_area=%{x}<br>sum of prima_dose=%{y}<extra></extra>",
         "legendgroup": "Emilia-Romagna",
         "marker": {
          "color": "#FFA15A",
          "opacity": 0.5
         },
         "name": "Emilia-Romagna",
         "offsetgroup": "Emilia-Romagna",
         "orientation": "v",
         "showlegend": true,
         "type": "histogram",
         "x": [
          "Emilia-Romagna"
         ],
         "xaxis": "x",
         "y": [
          224261
         ],
         "yaxis": "y"
        },
        {
         "alignmentgroup": "True",
         "bingroup": "x",
         "histfunc": "sum",
         "hovertemplate": "nome_area=%{x}<br>sum of prima_dose=%{y}<extra></extra>",
         "legendgroup": "Friuli-Venezia Giulia",
         "marker": {
          "color": "#19d3f3",
          "opacity": 0.5
         },
         "name": "Friuli-Venezia Giulia",
         "offsetgroup": "Friuli-Venezia Giulia",
         "orientation": "v",
         "showlegend": true,
         "type": "histogram",
         "x": [
          "Friuli-Venezia Giulia"
         ],
         "xaxis": "x",
         "y": [
          63649
         ],
         "yaxis": "y"
        },
        {
         "alignmentgroup": "True",
         "bingroup": "x",
         "histfunc": "sum",
         "hovertemplate": "nome_area=%{x}<br>sum of prima_dose=%{y}<extra></extra>",
         "legendgroup": "Lazio",
         "marker": {
          "color": "#FF6692",
          "opacity": 0.5
         },
         "name": "Lazio",
         "offsetgroup": "Lazio",
         "orientation": "v",
         "showlegend": true,
         "type": "histogram",
         "x": [
          "Lazio"
         ],
         "xaxis": "x",
         "y": [
          222205
         ],
         "yaxis": "y"
        },
        {
         "alignmentgroup": "True",
         "bingroup": "x",
         "histfunc": "sum",
         "hovertemplate": "nome_area=%{x}<br>sum of prima_dose=%{y}<extra></extra>",
         "legendgroup": "Liguria",
         "marker": {
          "color": "#B6E880",
          "opacity": 0.5
         },
         "name": "Liguria",
         "offsetgroup": "Liguria",
         "orientation": "v",
         "showlegend": true,
         "type": "histogram",
         "x": [
          "Liguria"
         ],
         "xaxis": "x",
         "y": [
          69165
         ],
         "yaxis": "y"
        },
        {
         "alignmentgroup": "True",
         "bingroup": "x",
         "histfunc": "sum",
         "hovertemplate": "nome_area=%{x}<br>sum of prima_dose=%{y}<extra></extra>",
         "legendgroup": "Lombardia",
         "marker": {
          "color": "#FF97FF",
          "opacity": 0.5
         },
         "name": "Lombardia",
         "offsetgroup": "Lombardia",
         "orientation": "v",
         "showlegend": true,
         "type": "histogram",
         "x": [
          "Lombardia"
         ],
         "xaxis": "x",
         "y": [
          373667
         ],
         "yaxis": "y"
        },
        {
         "alignmentgroup": "True",
         "bingroup": "x",
         "histfunc": "sum",
         "hovertemplate": "nome_area=%{x}<br>sum of prima_dose=%{y}<extra></extra>",
         "legendgroup": "Marche",
         "marker": {
          "color": "#FECB52",
          "opacity": 0.5
         },
         "name": "Marche",
         "offsetgroup": "Marche",
         "orientation": "v",
         "showlegend": true,
         "type": "histogram",
         "x": [
          "Marche"
         ],
         "xaxis": "x",
         "y": [
          59252
         ],
         "yaxis": "y"
        },
        {
         "alignmentgroup": "True",
         "bingroup": "x",
         "histfunc": "sum",
         "hovertemplate": "nome_area=%{x}<br>sum of prima_dose=%{y}<extra></extra>",
         "legendgroup": "Molise",
         "marker": {
          "color": "#636efa",
          "opacity": 0.5
         },
         "name": "Molise",
         "offsetgroup": "Molise",
         "orientation": "v",
         "showlegend": true,
         "type": "histogram",
         "x": [
          "Molise"
         ],
         "xaxis": "x",
         "y": [
          12374
         ],
         "yaxis": "y"
        },
        {
         "alignmentgroup": "True",
         "bingroup": "x",
         "histfunc": "sum",
         "hovertemplate": "nome_area=%{x}<br>sum of prima_dose=%{y}<extra></extra>",
         "legendgroup": "Piemonte",
         "marker": {
          "color": "#EF553B",
          "opacity": 0.5
         },
         "name": "Piemonte",
         "offsetgroup": "Piemonte",
         "orientation": "v",
         "showlegend": true,
         "type": "histogram",
         "x": [
          "Piemonte"
         ],
         "xaxis": "x",
         "y": [
          201602
         ],
         "yaxis": "y"
        },
        {
         "alignmentgroup": "True",
         "bingroup": "x",
         "histfunc": "sum",
         "hovertemplate": "nome_area=%{x}<br>sum of prima_dose=%{y}<extra></extra>",
         "legendgroup": "Provincia Autonoma Bolzano / Bozen",
         "marker": {
          "color": "#00cc96",
          "opacity": 0.5
         },
         "name": "Provincia Autonoma Bolzano / Bozen",
         "offsetgroup": "Provincia Autonoma Bolzano / Bozen",
         "orientation": "v",
         "showlegend": true,
         "type": "histogram",
         "x": [
          "Provincia Autonoma Bolzano / Bozen"
         ],
         "xaxis": "x",
         "y": [
          28465
         ],
         "yaxis": "y"
        },
        {
         "alignmentgroup": "True",
         "bingroup": "x",
         "histfunc": "sum",
         "hovertemplate": "nome_area=%{x}<br>sum of prima_dose=%{y}<extra></extra>",
         "legendgroup": "Provincia Autonoma Trento",
         "marker": {
          "color": "#ab63fa",
          "opacity": 0.5
         },
         "name": "Provincia Autonoma Trento",
         "offsetgroup": "Provincia Autonoma Trento",
         "orientation": "v",
         "showlegend": true,
         "type": "histogram",
         "x": [
          "Provincia Autonoma Trento"
         ],
         "xaxis": "x",
         "y": [
          25695
         ],
         "yaxis": "y"
        },
        {
         "alignmentgroup": "True",
         "bingroup": "x",
         "histfunc": "sum",
         "hovertemplate": "nome_area=%{x}<br>sum of prima_dose=%{y}<extra></extra>",
         "legendgroup": "Puglia",
         "marker": {
          "color": "#FFA15A",
          "opacity": 0.5
         },
         "name": "Puglia",
         "offsetgroup": "Puglia",
         "orientation": "v",
         "showlegend": true,
         "type": "histogram",
         "x": [
          "Puglia"
         ],
         "xaxis": "x",
         "y": [
          141215
         ],
         "yaxis": "y"
        },
        {
         "alignmentgroup": "True",
         "bingroup": "x",
         "histfunc": "sum",
         "hovertemplate": "nome_area=%{x}<br>sum of prima_dose=%{y}<extra></extra>",
         "legendgroup": "Sardegna",
         "marker": {
          "color": "#19d3f3",
          "opacity": 0.5
         },
         "name": "Sardegna",
         "offsetgroup": "Sardegna",
         "orientation": "v",
         "showlegend": true,
         "type": "histogram",
         "x": [
          "Sardegna"
         ],
         "xaxis": "x",
         "y": [
          50002
         ],
         "yaxis": "y"
        },
        {
         "alignmentgroup": "True",
         "bingroup": "x",
         "histfunc": "sum",
         "hovertemplate": "nome_area=%{x}<br>sum of prima_dose=%{y}<extra></extra>",
         "legendgroup": "Sicilia",
         "marker": {
          "color": "#FF6692",
          "opacity": 0.5
         },
         "name": "Sicilia",
         "offsetgroup": "Sicilia",
         "orientation": "v",
         "showlegend": true,
         "type": "histogram",
         "x": [
          "Sicilia"
         ],
         "xaxis": "x",
         "y": [
          174940
         ],
         "yaxis": "y"
        },
        {
         "alignmentgroup": "True",
         "bingroup": "x",
         "histfunc": "sum",
         "hovertemplate": "nome_area=%{x}<br>sum of prima_dose=%{y}<extra></extra>",
         "legendgroup": "Toscana",
         "marker": {
          "color": "#B6E880",
          "opacity": 0.5
         },
         "name": "Toscana",
         "offsetgroup": "Toscana",
         "orientation": "v",
         "showlegend": true,
         "type": "histogram",
         "x": [
          "Toscana"
         ],
         "xaxis": "x",
         "y": [
          148892
         ],
         "yaxis": "y"
        },
        {
         "alignmentgroup": "True",
         "bingroup": "x",
         "histfunc": "sum",
         "hovertemplate": "nome_area=%{x}<br>sum of prima_dose=%{y}<extra></extra>",
         "legendgroup": "Umbria",
         "marker": {
          "color": "#FF97FF",
          "opacity": 0.5
         },
         "name": "Umbria",
         "offsetgroup": "Umbria",
         "orientation": "v",
         "showlegend": true,
         "type": "histogram",
         "x": [
          "Umbria"
         ],
         "xaxis": "x",
         "y": [
          29054
         ],
         "yaxis": "y"
        },
        {
         "alignmentgroup": "True",
         "bingroup": "x",
         "histfunc": "sum",
         "hovertemplate": "nome_area=%{x}<br>sum of prima_dose=%{y}<extra></extra>",
         "legendgroup": "Valle d'Aosta / Vallée d'Aoste",
         "marker": {
          "color": "#FECB52",
          "opacity": 0.5
         },
         "name": "Valle d'Aosta / Vallée d'Aoste",
         "offsetgroup": "Valle d'Aosta / Vallée d'Aoste",
         "orientation": "v",
         "showlegend": true,
         "type": "histogram",
         "x": [
          "Valle d'Aosta / Vallée d'Aoste"
         ],
         "xaxis": "x",
         "y": [
          6539
         ],
         "yaxis": "y"
        },
        {
         "alignmentgroup": "True",
         "bingroup": "x",
         "histfunc": "sum",
         "hovertemplate": "nome_area=%{x}<br>sum of prima_dose=%{y}<extra></extra>",
         "legendgroup": "Veneto",
         "marker": {
          "color": "#636efa",
          "opacity": 0.5
         },
         "name": "Veneto",
         "offsetgroup": "Veneto",
         "orientation": "v",
         "showlegend": true,
         "type": "histogram",
         "x": [
          "Veneto"
         ],
         "xaxis": "x",
         "y": [
          194532
         ],
         "yaxis": "y"
        }
       ],
       "layout": {
        "barmode": "overlay",
        "height": 600,
        "legend": {
         "title": {
          "text": "nome_area"
         },
         "tracegroupgap": 0
        },
        "template": {
         "data": {
          "bar": [
           {
            "error_x": {
             "color": "#2a3f5f"
            },
            "error_y": {
             "color": "#2a3f5f"
            },
            "marker": {
             "line": {
              "color": "#E5ECF6",
              "width": 0.5
             }
            },
            "type": "bar"
           }
          ],
          "barpolar": [
           {
            "marker": {
             "line": {
              "color": "#E5ECF6",
              "width": 0.5
             }
            },
            "type": "barpolar"
           }
          ],
          "carpet": [
           {
            "aaxis": {
             "endlinecolor": "#2a3f5f",
             "gridcolor": "white",
             "linecolor": "white",
             "minorgridcolor": "white",
             "startlinecolor": "#2a3f5f"
            },
            "baxis": {
             "endlinecolor": "#2a3f5f",
             "gridcolor": "white",
             "linecolor": "white",
             "minorgridcolor": "white",
             "startlinecolor": "#2a3f5f"
            },
            "type": "carpet"
           }
          ],
          "choropleth": [
           {
            "colorbar": {
             "outlinewidth": 0,
             "ticks": ""
            },
            "type": "choropleth"
           }
          ],
          "contour": [
           {
            "colorbar": {
             "outlinewidth": 0,
             "ticks": ""
            },
            "colorscale": [
             [
              0.0,
              "#0d0887"
             ],
             [
              0.1111111111111111,
              "#46039f"
             ],
             [
              0.2222222222222222,
              "#7201a8"
             ],
             [
              0.3333333333333333,
              "#9c179e"
             ],
             [
              0.4444444444444444,
              "#bd3786"
             ],
             [
              0.5555555555555556,
              "#d8576b"
             ],
             [
              0.6666666666666666,
              "#ed7953"
             ],
             [
              0.7777777777777778,
              "#fb9f3a"
             ],
             [
              0.8888888888888888,
              "#fdca26"
             ],
             [
              1.0,
              "#f0f921"
             ]
            ],
            "type": "contour"
           }
          ],
          "contourcarpet": [
           {
            "colorbar": {
             "outlinewidth": 0,
             "ticks": ""
            },
            "type": "contourcarpet"
           }
          ],
          "heatmap": [
           {
            "colorbar": {
             "outlinewidth": 0,
             "ticks": ""
            },
            "colorscale": [
             [
              0.0,
              "#0d0887"
             ],
             [
              0.1111111111111111,
              "#46039f"
             ],
             [
              0.2222222222222222,
              "#7201a8"
             ],
             [
              0.3333333333333333,
              "#9c179e"
             ],
             [
              0.4444444444444444,
              "#bd3786"
             ],
             [
              0.5555555555555556,
              "#d8576b"
             ],
             [
              0.6666666666666666,
              "#ed7953"
             ],
             [
              0.7777777777777778,
              "#fb9f3a"
             ],
             [
              0.8888888888888888,
              "#fdca26"
             ],
             [
              1.0,
              "#f0f921"
             ]
            ],
            "type": "heatmap"
           }
          ],
          "heatmapgl": [
           {
            "colorbar": {
             "outlinewidth": 0,
             "ticks": ""
            },
            "colorscale": [
             [
              0.0,
              "#0d0887"
             ],
             [
              0.1111111111111111,
              "#46039f"
             ],
             [
              0.2222222222222222,
              "#7201a8"
             ],
             [
              0.3333333333333333,
              "#9c179e"
             ],
             [
              0.4444444444444444,
              "#bd3786"
             ],
             [
              0.5555555555555556,
              "#d8576b"
             ],
             [
              0.6666666666666666,
              "#ed7953"
             ],
             [
              0.7777777777777778,
              "#fb9f3a"
             ],
             [
              0.8888888888888888,
              "#fdca26"
             ],
             [
              1.0,
              "#f0f921"
             ]
            ],
            "type": "heatmapgl"
           }
          ],
          "histogram": [
           {
            "marker": {
             "colorbar": {
              "outlinewidth": 0,
              "ticks": ""
             }
            },
            "type": "histogram"
           }
          ],
          "histogram2d": [
           {
            "colorbar": {
             "outlinewidth": 0,
             "ticks": ""
            },
            "colorscale": [
             [
              0.0,
              "#0d0887"
             ],
             [
              0.1111111111111111,
              "#46039f"
             ],
             [
              0.2222222222222222,
              "#7201a8"
             ],
             [
              0.3333333333333333,
              "#9c179e"
             ],
             [
              0.4444444444444444,
              "#bd3786"
             ],
             [
              0.5555555555555556,
              "#d8576b"
             ],
             [
              0.6666666666666666,
              "#ed7953"
             ],
             [
              0.7777777777777778,
              "#fb9f3a"
             ],
             [
              0.8888888888888888,
              "#fdca26"
             ],
             [
              1.0,
              "#f0f921"
             ]
            ],
            "type": "histogram2d"
           }
          ],
          "histogram2dcontour": [
           {
            "colorbar": {
             "outlinewidth": 0,
             "ticks": ""
            },
            "colorscale": [
             [
              0.0,
              "#0d0887"
             ],
             [
              0.1111111111111111,
              "#46039f"
             ],
             [
              0.2222222222222222,
              "#7201a8"
             ],
             [
              0.3333333333333333,
              "#9c179e"
             ],
             [
              0.4444444444444444,
              "#bd3786"
             ],
             [
              0.5555555555555556,
              "#d8576b"
             ],
             [
              0.6666666666666666,
              "#ed7953"
             ],
             [
              0.7777777777777778,
              "#fb9f3a"
             ],
             [
              0.8888888888888888,
              "#fdca26"
             ],
             [
              1.0,
              "#f0f921"
             ]
            ],
            "type": "histogram2dcontour"
           }
          ],
          "mesh3d": [
           {
            "colorbar": {
             "outlinewidth": 0,
             "ticks": ""
            },
            "type": "mesh3d"
           }
          ],
          "parcoords": [
           {
            "line": {
             "colorbar": {
              "outlinewidth": 0,
              "ticks": ""
             }
            },
            "type": "parcoords"
           }
          ],
          "pie": [
           {
            "automargin": true,
            "type": "pie"
           }
          ],
          "scatter": [
           {
            "marker": {
             "colorbar": {
              "outlinewidth": 0,
              "ticks": ""
             }
            },
            "type": "scatter"
           }
          ],
          "scatter3d": [
           {
            "line": {
             "colorbar": {
              "outlinewidth": 0,
              "ticks": ""
             }
            },
            "marker": {
             "colorbar": {
              "outlinewidth": 0,
              "ticks": ""
             }
            },
            "type": "scatter3d"
           }
          ],
          "scattercarpet": [
           {
            "marker": {
             "colorbar": {
              "outlinewidth": 0,
              "ticks": ""
             }
            },
            "type": "scattercarpet"
           }
          ],
          "scattergeo": [
           {
            "marker": {
             "colorbar": {
              "outlinewidth": 0,
              "ticks": ""
             }
            },
            "type": "scattergeo"
           }
          ],
          "scattergl": [
           {
            "marker": {
             "colorbar": {
              "outlinewidth": 0,
              "ticks": ""
             }
            },
            "type": "scattergl"
           }
          ],
          "scattermapbox": [
           {
            "marker": {
             "colorbar": {
              "outlinewidth": 0,
              "ticks": ""
             }
            },
            "type": "scattermapbox"
           }
          ],
          "scatterpolar": [
           {
            "marker": {
             "colorbar": {
              "outlinewidth": 0,
              "ticks": ""
             }
            },
            "type": "scatterpolar"
           }
          ],
          "scatterpolargl": [
           {
            "marker": {
             "colorbar": {
              "outlinewidth": 0,
              "ticks": ""
             }
            },
            "type": "scatterpolargl"
           }
          ],
          "scatterternary": [
           {
            "marker": {
             "colorbar": {
              "outlinewidth": 0,
              "ticks": ""
             }
            },
            "type": "scatterternary"
           }
          ],
          "surface": [
           {
            "colorbar": {
             "outlinewidth": 0,
             "ticks": ""
            },
            "colorscale": [
             [
              0.0,
              "#0d0887"
             ],
             [
              0.1111111111111111,
              "#46039f"
             ],
             [
              0.2222222222222222,
              "#7201a8"
             ],
             [
              0.3333333333333333,
              "#9c179e"
             ],
             [
              0.4444444444444444,
              "#bd3786"
             ],
             [
              0.5555555555555556,
              "#d8576b"
             ],
             [
              0.6666666666666666,
              "#ed7953"
             ],
             [
              0.7777777777777778,
              "#fb9f3a"
             ],
             [
              0.8888888888888888,
              "#fdca26"
             ],
             [
              1.0,
              "#f0f921"
             ]
            ],
            "type": "surface"
           }
          ],
          "table": [
           {
            "cells": {
             "fill": {
              "color": "#EBF0F8"
             },
             "line": {
              "color": "white"
             }
            },
            "header": {
             "fill": {
              "color": "#C8D4E3"
             },
             "line": {
              "color": "white"
             }
            },
            "type": "table"
           }
          ]
         },
         "layout": {
          "annotationdefaults": {
           "arrowcolor": "#2a3f5f",
           "arrowhead": 0,
           "arrowwidth": 1
          },
          "autotypenumbers": "strict",
          "coloraxis": {
           "colorbar": {
            "outlinewidth": 0,
            "ticks": ""
           }
          },
          "colorscale": {
           "diverging": [
            [
             0,
             "#8e0152"
            ],
            [
             0.1,
             "#c51b7d"
            ],
            [
             0.2,
             "#de77ae"
            ],
            [
             0.3,
             "#f1b6da"
            ],
            [
             0.4,
             "#fde0ef"
            ],
            [
             0.5,
             "#f7f7f7"
            ],
            [
             0.6,
             "#e6f5d0"
            ],
            [
             0.7,
             "#b8e186"
            ],
            [
             0.8,
             "#7fbc41"
            ],
            [
             0.9,
             "#4d9221"
            ],
            [
             1,
             "#276419"
            ]
           ],
           "sequential": [
            [
             0.0,
             "#0d0887"
            ],
            [
             0.1111111111111111,
             "#46039f"
            ],
            [
             0.2222222222222222,
             "#7201a8"
            ],
            [
             0.3333333333333333,
             "#9c179e"
            ],
            [
             0.4444444444444444,
             "#bd3786"
            ],
            [
             0.5555555555555556,
             "#d8576b"
            ],
            [
             0.6666666666666666,
             "#ed7953"
            ],
            [
             0.7777777777777778,
             "#fb9f3a"
            ],
            [
             0.8888888888888888,
             "#fdca26"
            ],
            [
             1.0,
             "#f0f921"
            ]
           ],
           "sequentialminus": [
            [
             0.0,
             "#0d0887"
            ],
            [
             0.1111111111111111,
             "#46039f"
            ],
            [
             0.2222222222222222,
             "#7201a8"
            ],
            [
             0.3333333333333333,
             "#9c179e"
            ],
            [
             0.4444444444444444,
             "#bd3786"
            ],
            [
             0.5555555555555556,
             "#d8576b"
            ],
            [
             0.6666666666666666,
             "#ed7953"
            ],
            [
             0.7777777777777778,
             "#fb9f3a"
            ],
            [
             0.8888888888888888,
             "#fdca26"
            ],
            [
             1.0,
             "#f0f921"
            ]
           ]
          },
          "colorway": [
           "#636efa",
           "#EF553B",
           "#00cc96",
           "#ab63fa",
           "#FFA15A",
           "#19d3f3",
           "#FF6692",
           "#B6E880",
           "#FF97FF",
           "#FECB52"
          ],
          "font": {
           "color": "#2a3f5f"
          },
          "geo": {
           "bgcolor": "white",
           "lakecolor": "white",
           "landcolor": "#E5ECF6",
           "showlakes": true,
           "showland": true,
           "subunitcolor": "white"
          },
          "hoverlabel": {
           "align": "left"
          },
          "hovermode": "closest",
          "mapbox": {
           "style": "light"
          },
          "paper_bgcolor": "white",
          "plot_bgcolor": "#E5ECF6",
          "polar": {
           "angularaxis": {
            "gridcolor": "white",
            "linecolor": "white",
            "ticks": ""
           },
           "bgcolor": "#E5ECF6",
           "radialaxis": {
            "gridcolor": "white",
            "linecolor": "white",
            "ticks": ""
           }
          },
          "scene": {
           "xaxis": {
            "backgroundcolor": "#E5ECF6",
            "gridcolor": "white",
            "gridwidth": 2,
            "linecolor": "white",
            "showbackground": true,
            "ticks": "",
            "zerolinecolor": "white"
           },
           "yaxis": {
            "backgroundcolor": "#E5ECF6",
            "gridcolor": "white",
            "gridwidth": 2,
            "linecolor": "white",
            "showbackground": true,
            "ticks": "",
            "zerolinecolor": "white"
           },
           "zaxis": {
            "backgroundcolor": "#E5ECF6",
            "gridcolor": "white",
            "gridwidth": 2,
            "linecolor": "white",
            "showbackground": true,
            "ticks": "",
            "zerolinecolor": "white"
           }
          },
          "shapedefaults": {
           "line": {
            "color": "#2a3f5f"
           }
          },
          "ternary": {
           "aaxis": {
            "gridcolor": "white",
            "linecolor": "white",
            "ticks": ""
           },
           "baxis": {
            "gridcolor": "white",
            "linecolor": "white",
            "ticks": ""
           },
           "bgcolor": "#E5ECF6",
           "caxis": {
            "gridcolor": "white",
            "linecolor": "white",
            "ticks": ""
           }
          },
          "title": {
           "x": 0.05
          },
          "xaxis": {
           "automargin": true,
           "gridcolor": "white",
           "linecolor": "white",
           "ticks": "",
           "title": {
            "standoff": 15
           },
           "zerolinecolor": "white",
           "zerolinewidth": 2
          },
          "yaxis": {
           "automargin": true,
           "gridcolor": "white",
           "linecolor": "white",
           "ticks": "",
           "title": {
            "standoff": 15
           },
           "zerolinecolor": "white",
           "zerolinewidth": 2
          }
         }
        },
        "title": {
         "text": "#prima_dose per Regione"
        },
        "width": 800,
        "xaxis": {
         "anchor": "y",
         "categoryarray": [
          "Abruzzo",
          "Basilicata",
          "Calabria",
          "Campania",
          "Emilia-Romagna",
          "Friuli-Venezia Giulia",
          "Lazio",
          "Liguria",
          "Lombardia",
          "Marche",
          "Molise",
          "Piemonte",
          "Provincia Autonoma Bolzano / Bozen",
          "Provincia Autonoma Trento",
          "Puglia",
          "Sardegna",
          "Sicilia",
          "Toscana",
          "Umbria",
          "Valle d'Aosta / Vallée d'Aoste",
          "Veneto"
         ],
         "categoryorder": "array",
         "domain": [
          0.0,
          1.0
         ],
         "title": {}
        },
        "yaxis": {
         "anchor": "x",
         "domain": [
          0.0,
          1.0
         ],
         "title": {
          "text": "#prima_dose"
         }
        }
       }
      },
      "text/html": "<div>                            <div id=\"ec5db4cb-8cbf-4cca-a1b8-b5bf30c4fd8b\" class=\"plotly-graph-div\" style=\"height:600px; width:800px;\"></div>            <script type=\"text/javascript\">                require([\"plotly\"], function(Plotly) {                    window.PLOTLYENV=window.PLOTLYENV || {};                                    if (document.getElementById(\"ec5db4cb-8cbf-4cca-a1b8-b5bf30c4fd8b\")) {                    Plotly.newPlot(                        \"ec5db4cb-8cbf-4cca-a1b8-b5bf30c4fd8b\",                        [{\"alignmentgroup\": \"True\", \"bingroup\": \"x\", \"histfunc\": \"sum\", \"hovertemplate\": \"nome_area=%{x}<br>sum of prima_dose=%{y}<extra></extra>\", \"legendgroup\": \"Abruzzo\", \"marker\": {\"color\": \"#636efa\", \"opacity\": 0.5}, \"name\": \"Abruzzo\", \"offsetgroup\": \"Abruzzo\", \"orientation\": \"v\", \"showlegend\": true, \"type\": \"histogram\", \"x\": [\"Abruzzo\"], \"xaxis\": \"x\", \"y\": [45335], \"yaxis\": \"y\"}, {\"alignmentgroup\": \"True\", \"bingroup\": \"x\", \"histfunc\": \"sum\", \"hovertemplate\": \"nome_area=%{x}<br>sum of prima_dose=%{y}<extra></extra>\", \"legendgroup\": \"Basilicata\", \"marker\": {\"color\": \"#EF553B\", \"opacity\": 0.5}, \"name\": \"Basilicata\", \"offsetgroup\": \"Basilicata\", \"orientation\": \"v\", \"showlegend\": true, \"type\": \"histogram\", \"x\": [\"Basilicata\"], \"xaxis\": \"x\", \"y\": [27763], \"yaxis\": \"y\"}, {\"alignmentgroup\": \"True\", \"bingroup\": \"x\", \"histfunc\": \"sum\", \"hovertemplate\": \"nome_area=%{x}<br>sum of prima_dose=%{y}<extra></extra>\", \"legendgroup\": \"Calabria\", \"marker\": {\"color\": \"#00cc96\", \"opacity\": 0.5}, \"name\": \"Calabria\", \"offsetgroup\": \"Calabria\", \"orientation\": \"v\", \"showlegend\": true, \"type\": \"histogram\", \"x\": [\"Calabria\"], \"xaxis\": \"x\", \"y\": [54923], \"yaxis\": \"y\"}, {\"alignmentgroup\": \"True\", \"bingroup\": \"x\", \"histfunc\": \"sum\", \"hovertemplate\": \"nome_area=%{x}<br>sum of prima_dose=%{y}<extra></extra>\", \"legendgroup\": \"Campania\", \"marker\": {\"color\": \"#ab63fa\", \"opacity\": 0.5}, \"name\": \"Campania\", \"offsetgroup\": \"Campania\", \"orientation\": \"v\", \"showlegend\": true, \"type\": \"histogram\", \"x\": [\"Campania\"], \"xaxis\": \"x\", \"y\": [210334], \"yaxis\": \"y\"}, {\"alignmentgroup\": \"True\", \"bingroup\": \"x\", \"histfunc\": \"sum\", \"hovertemplate\": \"nome_area=%{x}<br>sum of prima_dose=%{y}<extra></extra>\", \"legendgroup\": \"Emilia-Romagna\", \"marker\": {\"color\": \"#FFA15A\", \"opacity\": 0.5}, \"name\": \"Emilia-Romagna\", \"offsetgroup\": \"Emilia-Romagna\", \"orientation\": \"v\", \"showlegend\": true, \"type\": \"histogram\", \"x\": [\"Emilia-Romagna\"], \"xaxis\": \"x\", \"y\": [224261], \"yaxis\": \"y\"}, {\"alignmentgroup\": \"True\", \"bingroup\": \"x\", \"histfunc\": \"sum\", \"hovertemplate\": \"nome_area=%{x}<br>sum of prima_dose=%{y}<extra></extra>\", \"legendgroup\": \"Friuli-Venezia Giulia\", \"marker\": {\"color\": \"#19d3f3\", \"opacity\": 0.5}, \"name\": \"Friuli-Venezia Giulia\", \"offsetgroup\": \"Friuli-Venezia Giulia\", \"orientation\": \"v\", \"showlegend\": true, \"type\": \"histogram\", \"x\": [\"Friuli-Venezia Giulia\"], \"xaxis\": \"x\", \"y\": [63649], \"yaxis\": \"y\"}, {\"alignmentgroup\": \"True\", \"bingroup\": \"x\", \"histfunc\": \"sum\", \"hovertemplate\": \"nome_area=%{x}<br>sum of prima_dose=%{y}<extra></extra>\", \"legendgroup\": \"Lazio\", \"marker\": {\"color\": \"#FF6692\", \"opacity\": 0.5}, \"name\": \"Lazio\", \"offsetgroup\": \"Lazio\", \"orientation\": \"v\", \"showlegend\": true, \"type\": \"histogram\", \"x\": [\"Lazio\"], \"xaxis\": \"x\", \"y\": [222205], \"yaxis\": \"y\"}, {\"alignmentgroup\": \"True\", \"bingroup\": \"x\", \"histfunc\": \"sum\", \"hovertemplate\": \"nome_area=%{x}<br>sum of prima_dose=%{y}<extra></extra>\", \"legendgroup\": \"Liguria\", \"marker\": {\"color\": \"#B6E880\", \"opacity\": 0.5}, \"name\": \"Liguria\", \"offsetgroup\": \"Liguria\", \"orientation\": \"v\", \"showlegend\": true, \"type\": \"histogram\", \"x\": [\"Liguria\"], \"xaxis\": \"x\", \"y\": [69165], \"yaxis\": \"y\"}, {\"alignmentgroup\": \"True\", \"bingroup\": \"x\", \"histfunc\": \"sum\", \"hovertemplate\": \"nome_area=%{x}<br>sum of prima_dose=%{y}<extra></extra>\", \"legendgroup\": \"Lombardia\", \"marker\": {\"color\": \"#FF97FF\", \"opacity\": 0.5}, \"name\": \"Lombardia\", \"offsetgroup\": \"Lombardia\", \"orientation\": \"v\", \"showlegend\": true, \"type\": \"histogram\", \"x\": [\"Lombardia\"], \"xaxis\": \"x\", \"y\": [373667], \"yaxis\": \"y\"}, {\"alignmentgroup\": \"True\", \"bingroup\": \"x\", \"histfunc\": \"sum\", \"hovertemplate\": \"nome_area=%{x}<br>sum of prima_dose=%{y}<extra></extra>\", \"legendgroup\": \"Marche\", \"marker\": {\"color\": \"#FECB52\", \"opacity\": 0.5}, \"name\": \"Marche\", \"offsetgroup\": \"Marche\", \"orientation\": \"v\", \"showlegend\": true, \"type\": \"histogram\", \"x\": [\"Marche\"], \"xaxis\": \"x\", \"y\": [59252], \"yaxis\": \"y\"}, {\"alignmentgroup\": \"True\", \"bingroup\": \"x\", \"histfunc\": \"sum\", \"hovertemplate\": \"nome_area=%{x}<br>sum of prima_dose=%{y}<extra></extra>\", \"legendgroup\": \"Molise\", \"marker\": {\"color\": \"#636efa\", \"opacity\": 0.5}, \"name\": \"Molise\", \"offsetgroup\": \"Molise\", \"orientation\": \"v\", \"showlegend\": true, \"type\": \"histogram\", \"x\": [\"Molise\"], \"xaxis\": \"x\", \"y\": [12374], \"yaxis\": \"y\"}, {\"alignmentgroup\": \"True\", \"bingroup\": \"x\", \"histfunc\": \"sum\", \"hovertemplate\": \"nome_area=%{x}<br>sum of prima_dose=%{y}<extra></extra>\", \"legendgroup\": \"Piemonte\", \"marker\": {\"color\": \"#EF553B\", \"opacity\": 0.5}, \"name\": \"Piemonte\", \"offsetgroup\": \"Piemonte\", \"orientation\": \"v\", \"showlegend\": true, \"type\": \"histogram\", \"x\": [\"Piemonte\"], \"xaxis\": \"x\", \"y\": [201602], \"yaxis\": \"y\"}, {\"alignmentgroup\": \"True\", \"bingroup\": \"x\", \"histfunc\": \"sum\", \"hovertemplate\": \"nome_area=%{x}<br>sum of prima_dose=%{y}<extra></extra>\", \"legendgroup\": \"Provincia Autonoma Bolzano / Bozen\", \"marker\": {\"color\": \"#00cc96\", \"opacity\": 0.5}, \"name\": \"Provincia Autonoma Bolzano / Bozen\", \"offsetgroup\": \"Provincia Autonoma Bolzano / Bozen\", \"orientation\": \"v\", \"showlegend\": true, \"type\": \"histogram\", \"x\": [\"Provincia Autonoma Bolzano / Bozen\"], \"xaxis\": \"x\", \"y\": [28465], \"yaxis\": \"y\"}, {\"alignmentgroup\": \"True\", \"bingroup\": \"x\", \"histfunc\": \"sum\", \"hovertemplate\": \"nome_area=%{x}<br>sum of prima_dose=%{y}<extra></extra>\", \"legendgroup\": \"Provincia Autonoma Trento\", \"marker\": {\"color\": \"#ab63fa\", \"opacity\": 0.5}, \"name\": \"Provincia Autonoma Trento\", \"offsetgroup\": \"Provincia Autonoma Trento\", \"orientation\": \"v\", \"showlegend\": true, \"type\": \"histogram\", \"x\": [\"Provincia Autonoma Trento\"], \"xaxis\": \"x\", \"y\": [25695], \"yaxis\": \"y\"}, {\"alignmentgroup\": \"True\", \"bingroup\": \"x\", \"histfunc\": \"sum\", \"hovertemplate\": \"nome_area=%{x}<br>sum of prima_dose=%{y}<extra></extra>\", \"legendgroup\": \"Puglia\", \"marker\": {\"color\": \"#FFA15A\", \"opacity\": 0.5}, \"name\": \"Puglia\", \"offsetgroup\": \"Puglia\", \"orientation\": \"v\", \"showlegend\": true, \"type\": \"histogram\", \"x\": [\"Puglia\"], \"xaxis\": \"x\", \"y\": [141215], \"yaxis\": \"y\"}, {\"alignmentgroup\": \"True\", \"bingroup\": \"x\", \"histfunc\": \"sum\", \"hovertemplate\": \"nome_area=%{x}<br>sum of prima_dose=%{y}<extra></extra>\", \"legendgroup\": \"Sardegna\", \"marker\": {\"color\": \"#19d3f3\", \"opacity\": 0.5}, \"name\": \"Sardegna\", \"offsetgroup\": \"Sardegna\", \"orientation\": \"v\", \"showlegend\": true, \"type\": \"histogram\", \"x\": [\"Sardegna\"], \"xaxis\": \"x\", \"y\": [50002], \"yaxis\": \"y\"}, {\"alignmentgroup\": \"True\", \"bingroup\": \"x\", \"histfunc\": \"sum\", \"hovertemplate\": \"nome_area=%{x}<br>sum of prima_dose=%{y}<extra></extra>\", \"legendgroup\": \"Sicilia\", \"marker\": {\"color\": \"#FF6692\", \"opacity\": 0.5}, \"name\": \"Sicilia\", \"offsetgroup\": \"Sicilia\", \"orientation\": \"v\", \"showlegend\": true, \"type\": \"histogram\", \"x\": [\"Sicilia\"], \"xaxis\": \"x\", \"y\": [174940], \"yaxis\": \"y\"}, {\"alignmentgroup\": \"True\", \"bingroup\": \"x\", \"histfunc\": \"sum\", \"hovertemplate\": \"nome_area=%{x}<br>sum of prima_dose=%{y}<extra></extra>\", \"legendgroup\": \"Toscana\", \"marker\": {\"color\": \"#B6E880\", \"opacity\": 0.5}, \"name\": \"Toscana\", \"offsetgroup\": \"Toscana\", \"orientation\": \"v\", \"showlegend\": true, \"type\": \"histogram\", \"x\": [\"Toscana\"], \"xaxis\": \"x\", \"y\": [148892], \"yaxis\": \"y\"}, {\"alignmentgroup\": \"True\", \"bingroup\": \"x\", \"histfunc\": \"sum\", \"hovertemplate\": \"nome_area=%{x}<br>sum of prima_dose=%{y}<extra></extra>\", \"legendgroup\": \"Umbria\", \"marker\": {\"color\": \"#FF97FF\", \"opacity\": 0.5}, \"name\": \"Umbria\", \"offsetgroup\": \"Umbria\", \"orientation\": \"v\", \"showlegend\": true, \"type\": \"histogram\", \"x\": [\"Umbria\"], \"xaxis\": \"x\", \"y\": [29054], \"yaxis\": \"y\"}, {\"alignmentgroup\": \"True\", \"bingroup\": \"x\", \"histfunc\": \"sum\", \"hovertemplate\": \"nome_area=%{x}<br>sum of prima_dose=%{y}<extra></extra>\", \"legendgroup\": \"Valle d'Aosta / Vall\\u00e9e d'Aoste\", \"marker\": {\"color\": \"#FECB52\", \"opacity\": 0.5}, \"name\": \"Valle d'Aosta / Vall\\u00e9e d'Aoste\", \"offsetgroup\": \"Valle d'Aosta / Vall\\u00e9e d'Aoste\", \"orientation\": \"v\", \"showlegend\": true, \"type\": \"histogram\", \"x\": [\"Valle d'Aosta / Vall\\u00e9e d'Aoste\"], \"xaxis\": \"x\", \"y\": [6539], \"yaxis\": \"y\"}, {\"alignmentgroup\": \"True\", \"bingroup\": \"x\", \"histfunc\": \"sum\", \"hovertemplate\": \"nome_area=%{x}<br>sum of prima_dose=%{y}<extra></extra>\", \"legendgroup\": \"Veneto\", \"marker\": {\"color\": \"#636efa\", \"opacity\": 0.5}, \"name\": \"Veneto\", \"offsetgroup\": \"Veneto\", \"orientation\": \"v\", \"showlegend\": true, \"type\": \"histogram\", \"x\": [\"Veneto\"], \"xaxis\": \"x\", \"y\": [194532], \"yaxis\": \"y\"}],                        {\"barmode\": \"overlay\", \"height\": 600, \"legend\": {\"title\": {\"text\": \"nome_area\"}, \"tracegroupgap\": 0}, \"template\": {\"data\": {\"bar\": [{\"error_x\": {\"color\": \"#2a3f5f\"}, \"error_y\": {\"color\": \"#2a3f5f\"}, \"marker\": {\"line\": {\"color\": \"#E5ECF6\", \"width\": 0.5}}, \"type\": \"bar\"}], \"barpolar\": [{\"marker\": {\"line\": {\"color\": \"#E5ECF6\", \"width\": 0.5}}, \"type\": \"barpolar\"}], \"carpet\": [{\"aaxis\": {\"endlinecolor\": \"#2a3f5f\", \"gridcolor\": \"white\", \"linecolor\": \"white\", \"minorgridcolor\": \"white\", \"startlinecolor\": \"#2a3f5f\"}, \"baxis\": {\"endlinecolor\": \"#2a3f5f\", \"gridcolor\": \"white\", \"linecolor\": \"white\", \"minorgridcolor\": \"white\", \"startlinecolor\": \"#2a3f5f\"}, \"type\": \"carpet\"}], \"choropleth\": [{\"colorbar\": {\"outlinewidth\": 0, \"ticks\": \"\"}, \"type\": \"choropleth\"}], \"contour\": [{\"colorbar\": {\"outlinewidth\": 0, \"ticks\": \"\"}, \"colorscale\": [[0.0, \"#0d0887\"], [0.1111111111111111, \"#46039f\"], [0.2222222222222222, \"#7201a8\"], [0.3333333333333333, \"#9c179e\"], [0.4444444444444444, \"#bd3786\"], [0.5555555555555556, \"#d8576b\"], [0.6666666666666666, \"#ed7953\"], [0.7777777777777778, \"#fb9f3a\"], [0.8888888888888888, \"#fdca26\"], [1.0, \"#f0f921\"]], \"type\": \"contour\"}], \"contourcarpet\": [{\"colorbar\": {\"outlinewidth\": 0, \"ticks\": \"\"}, \"type\": \"contourcarpet\"}], \"heatmap\": [{\"colorbar\": {\"outlinewidth\": 0, \"ticks\": \"\"}, \"colorscale\": [[0.0, \"#0d0887\"], [0.1111111111111111, \"#46039f\"], [0.2222222222222222, \"#7201a8\"], [0.3333333333333333, \"#9c179e\"], [0.4444444444444444, \"#bd3786\"], [0.5555555555555556, \"#d8576b\"], [0.6666666666666666, \"#ed7953\"], [0.7777777777777778, \"#fb9f3a\"], [0.8888888888888888, \"#fdca26\"], [1.0, \"#f0f921\"]], \"type\": \"heatmap\"}], \"heatmapgl\": [{\"colorbar\": {\"outlinewidth\": 0, \"ticks\": \"\"}, \"colorscale\": [[0.0, \"#0d0887\"], [0.1111111111111111, \"#46039f\"], [0.2222222222222222, \"#7201a8\"], [0.3333333333333333, \"#9c179e\"], [0.4444444444444444, \"#bd3786\"], [0.5555555555555556, \"#d8576b\"], [0.6666666666666666, \"#ed7953\"], [0.7777777777777778, \"#fb9f3a\"], [0.8888888888888888, \"#fdca26\"], [1.0, \"#f0f921\"]], \"type\": \"heatmapgl\"}], \"histogram\": [{\"marker\": {\"colorbar\": {\"outlinewidth\": 0, \"ticks\": \"\"}}, \"type\": \"histogram\"}], \"histogram2d\": [{\"colorbar\": {\"outlinewidth\": 0, \"ticks\": \"\"}, \"colorscale\": [[0.0, \"#0d0887\"], [0.1111111111111111, \"#46039f\"], [0.2222222222222222, \"#7201a8\"], [0.3333333333333333, \"#9c179e\"], [0.4444444444444444, \"#bd3786\"], [0.5555555555555556, \"#d8576b\"], [0.6666666666666666, \"#ed7953\"], [0.7777777777777778, \"#fb9f3a\"], [0.8888888888888888, \"#fdca26\"], [1.0, \"#f0f921\"]], \"type\": \"histogram2d\"}], \"histogram2dcontour\": [{\"colorbar\": {\"outlinewidth\": 0, \"ticks\": \"\"}, \"colorscale\": [[0.0, \"#0d0887\"], [0.1111111111111111, \"#46039f\"], [0.2222222222222222, \"#7201a8\"], [0.3333333333333333, \"#9c179e\"], [0.4444444444444444, \"#bd3786\"], [0.5555555555555556, \"#d8576b\"], [0.6666666666666666, \"#ed7953\"], [0.7777777777777778, \"#fb9f3a\"], [0.8888888888888888, \"#fdca26\"], [1.0, \"#f0f921\"]], \"type\": \"histogram2dcontour\"}], \"mesh3d\": [{\"colorbar\": {\"outlinewidth\": 0, \"ticks\": \"\"}, \"type\": \"mesh3d\"}], \"parcoords\": [{\"line\": {\"colorbar\": {\"outlinewidth\": 0, \"ticks\": \"\"}}, \"type\": \"parcoords\"}], \"pie\": [{\"automargin\": true, \"type\": \"pie\"}], \"scatter\": [{\"marker\": {\"colorbar\": {\"outlinewidth\": 0, \"ticks\": \"\"}}, \"type\": \"scatter\"}], \"scatter3d\": [{\"line\": {\"colorbar\": {\"outlinewidth\": 0, \"ticks\": \"\"}}, \"marker\": {\"colorbar\": {\"outlinewidth\": 0, \"ticks\": \"\"}}, \"type\": \"scatter3d\"}], \"scattercarpet\": [{\"marker\": {\"colorbar\": {\"outlinewidth\": 0, \"ticks\": \"\"}}, \"type\": \"scattercarpet\"}], \"scattergeo\": [{\"marker\": {\"colorbar\": {\"outlinewidth\": 0, \"ticks\": \"\"}}, \"type\": \"scattergeo\"}], \"scattergl\": [{\"marker\": {\"colorbar\": {\"outlinewidth\": 0, \"ticks\": \"\"}}, \"type\": \"scattergl\"}], \"scattermapbox\": [{\"marker\": {\"colorbar\": {\"outlinewidth\": 0, \"ticks\": \"\"}}, \"type\": \"scattermapbox\"}], \"scatterpolar\": [{\"marker\": {\"colorbar\": {\"outlinewidth\": 0, \"ticks\": \"\"}}, \"type\": \"scatterpolar\"}], \"scatterpolargl\": [{\"marker\": {\"colorbar\": {\"outlinewidth\": 0, \"ticks\": \"\"}}, \"type\": \"scatterpolargl\"}], \"scatterternary\": [{\"marker\": {\"colorbar\": {\"outlinewidth\": 0, \"ticks\": \"\"}}, \"type\": \"scatterternary\"}], \"surface\": [{\"colorbar\": {\"outlinewidth\": 0, \"ticks\": \"\"}, \"colorscale\": [[0.0, \"#0d0887\"], [0.1111111111111111, \"#46039f\"], [0.2222222222222222, \"#7201a8\"], [0.3333333333333333, \"#9c179e\"], [0.4444444444444444, \"#bd3786\"], [0.5555555555555556, \"#d8576b\"], [0.6666666666666666, \"#ed7953\"], [0.7777777777777778, \"#fb9f3a\"], [0.8888888888888888, \"#fdca26\"], [1.0, \"#f0f921\"]], \"type\": \"surface\"}], \"table\": [{\"cells\": {\"fill\": {\"color\": \"#EBF0F8\"}, \"line\": {\"color\": \"white\"}}, \"header\": {\"fill\": {\"color\": \"#C8D4E3\"}, \"line\": {\"color\": \"white\"}}, \"type\": \"table\"}]}, \"layout\": {\"annotationdefaults\": {\"arrowcolor\": \"#2a3f5f\", \"arrowhead\": 0, \"arrowwidth\": 1}, \"autotypenumbers\": \"strict\", \"coloraxis\": {\"colorbar\": {\"outlinewidth\": 0, \"ticks\": \"\"}}, \"colorscale\": {\"diverging\": [[0, \"#8e0152\"], [0.1, \"#c51b7d\"], [0.2, \"#de77ae\"], [0.3, \"#f1b6da\"], [0.4, \"#fde0ef\"], [0.5, \"#f7f7f7\"], [0.6, \"#e6f5d0\"], [0.7, \"#b8e186\"], [0.8, \"#7fbc41\"], [0.9, \"#4d9221\"], [1, \"#276419\"]], \"sequential\": [[0.0, \"#0d0887\"], [0.1111111111111111, \"#46039f\"], [0.2222222222222222, \"#7201a8\"], [0.3333333333333333, \"#9c179e\"], [0.4444444444444444, \"#bd3786\"], [0.5555555555555556, \"#d8576b\"], [0.6666666666666666, \"#ed7953\"], [0.7777777777777778, \"#fb9f3a\"], [0.8888888888888888, \"#fdca26\"], [1.0, \"#f0f921\"]], \"sequentialminus\": [[0.0, \"#0d0887\"], [0.1111111111111111, \"#46039f\"], [0.2222222222222222, \"#7201a8\"], [0.3333333333333333, \"#9c179e\"], [0.4444444444444444, \"#bd3786\"], [0.5555555555555556, \"#d8576b\"], [0.6666666666666666, \"#ed7953\"], [0.7777777777777778, \"#fb9f3a\"], [0.8888888888888888, \"#fdca26\"], [1.0, \"#f0f921\"]]}, \"colorway\": [\"#636efa\", \"#EF553B\", \"#00cc96\", \"#ab63fa\", \"#FFA15A\", \"#19d3f3\", \"#FF6692\", \"#B6E880\", \"#FF97FF\", \"#FECB52\"], \"font\": {\"color\": \"#2a3f5f\"}, \"geo\": {\"bgcolor\": \"white\", \"lakecolor\": \"white\", \"landcolor\": \"#E5ECF6\", \"showlakes\": true, \"showland\": true, \"subunitcolor\": \"white\"}, \"hoverlabel\": {\"align\": \"left\"}, \"hovermode\": \"closest\", \"mapbox\": {\"style\": \"light\"}, \"paper_bgcolor\": \"white\", \"plot_bgcolor\": \"#E5ECF6\", \"polar\": {\"angularaxis\": {\"gridcolor\": \"white\", \"linecolor\": \"white\", \"ticks\": \"\"}, \"bgcolor\": \"#E5ECF6\", \"radialaxis\": {\"gridcolor\": \"white\", \"linecolor\": \"white\", \"ticks\": \"\"}}, \"scene\": {\"xaxis\": {\"backgroundcolor\": \"#E5ECF6\", \"gridcolor\": \"white\", \"gridwidth\": 2, \"linecolor\": \"white\", \"showbackground\": true, \"ticks\": \"\", \"zerolinecolor\": \"white\"}, \"yaxis\": {\"backgroundcolor\": \"#E5ECF6\", \"gridcolor\": \"white\", \"gridwidth\": 2, \"linecolor\": \"white\", \"showbackground\": true, \"ticks\": \"\", \"zerolinecolor\": \"white\"}, \"zaxis\": {\"backgroundcolor\": \"#E5ECF6\", \"gridcolor\": \"white\", \"gridwidth\": 2, \"linecolor\": \"white\", \"showbackground\": true, \"ticks\": \"\", \"zerolinecolor\": \"white\"}}, \"shapedefaults\": {\"line\": {\"color\": \"#2a3f5f\"}}, \"ternary\": {\"aaxis\": {\"gridcolor\": \"white\", \"linecolor\": \"white\", \"ticks\": \"\"}, \"baxis\": {\"gridcolor\": \"white\", \"linecolor\": \"white\", \"ticks\": \"\"}, \"bgcolor\": \"#E5ECF6\", \"caxis\": {\"gridcolor\": \"white\", \"linecolor\": \"white\", \"ticks\": \"\"}}, \"title\": {\"x\": 0.05}, \"xaxis\": {\"automargin\": true, \"gridcolor\": \"white\", \"linecolor\": \"white\", \"ticks\": \"\", \"title\": {\"standoff\": 15}, \"zerolinecolor\": \"white\", \"zerolinewidth\": 2}, \"yaxis\": {\"automargin\": true, \"gridcolor\": \"white\", \"linecolor\": \"white\", \"ticks\": \"\", \"title\": {\"standoff\": 15}, \"zerolinecolor\": \"white\", \"zerolinewidth\": 2}}}, \"title\": {\"text\": \"#prima_dose per Regione\"}, \"width\": 800, \"xaxis\": {\"anchor\": \"y\", \"categoryarray\": [\"Abruzzo\", \"Basilicata\", \"Calabria\", \"Campania\", \"Emilia-Romagna\", \"Friuli-Venezia Giulia\", \"Lazio\", \"Liguria\", \"Lombardia\", \"Marche\", \"Molise\", \"Piemonte\", \"Provincia Autonoma Bolzano / Bozen\", \"Provincia Autonoma Trento\", \"Puglia\", \"Sardegna\", \"Sicilia\", \"Toscana\", \"Umbria\", \"Valle d'Aosta / Vall\\u00e9e d'Aoste\", \"Veneto\"], \"categoryorder\": \"array\", \"domain\": [0.0, 1.0], \"title\": {}}, \"yaxis\": {\"anchor\": \"x\", \"domain\": [0.0, 1.0], \"title\": {\"text\": \"#prima_dose\"}}},                        {\"responsive\": true}                    ).then(function(){\n                            \nvar gd = document.getElementById('ec5db4cb-8cbf-4cca-a1b8-b5bf30c4fd8b');\nvar x = new MutationObserver(function (mutations, observer) {{\n        var display = window.getComputedStyle(gd).display;\n        if (!display || display === 'none') {{\n            console.log([gd, 'removed!']);\n            Plotly.purge(gd);\n            observer.disconnect();\n        }}\n}});\n\n// Listen for the removal of the full notebook cells\nvar notebookContainer = gd.closest('#notebook-container');\nif (notebookContainer) {{\n    x.observe(notebookContainer, {childList: true});\n}}\n\n// Listen for the clearing of the current output cell\nvar outputEl = gd.closest('.output');\nif (outputEl) {{\n    x.observe(outputEl, {childList: true});\n}}\n\n                        })                };                });            </script>        </div>"
     },
     "metadata": {},
     "output_type": "display_data"
    },
    {
     "data": {
      "application/vnd.plotly.v1+json": {
       "config": {
        "plotlyServerURL": "https://plot.ly"
       },
       "data": [
        {
         "alignmentgroup": "True",
         "bingroup": "x",
         "histfunc": "sum",
         "hovertemplate": "nome_area=%{x}<br>sum of seconda_dose=%{y}<extra></extra>",
         "legendgroup": "Abruzzo",
         "marker": {
          "color": "#636efa",
          "opacity": 0.5
         },
         "name": "Abruzzo",
         "offsetgroup": "Abruzzo",
         "orientation": "v",
         "showlegend": true,
         "type": "histogram",
         "x": [
          "Abruzzo"
         ],
         "xaxis": "x",
         "y": [
          20792
         ],
         "yaxis": "y"
        },
        {
         "alignmentgroup": "True",
         "bingroup": "x",
         "histfunc": "sum",
         "hovertemplate": "nome_area=%{x}<br>sum of seconda_dose=%{y}<extra></extra>",
         "legendgroup": "Basilicata",
         "marker": {
          "color": "#EF553B",
          "opacity": 0.5
         },
         "name": "Basilicata",
         "offsetgroup": "Basilicata",
         "orientation": "v",
         "showlegend": true,
         "type": "histogram",
         "x": [
          "Basilicata"
         ],
         "xaxis": "x",
         "y": [
          11322
         ],
         "yaxis": "y"
        },
        {
         "alignmentgroup": "True",
         "bingroup": "x",
         "histfunc": "sum",
         "hovertemplate": "nome_area=%{x}<br>sum of seconda_dose=%{y}<extra></extra>",
         "legendgroup": "Calabria",
         "marker": {
          "color": "#00cc96",
          "opacity": 0.5
         },
         "name": "Calabria",
         "offsetgroup": "Calabria",
         "orientation": "v",
         "showlegend": true,
         "type": "histogram",
         "x": [
          "Calabria"
         ],
         "xaxis": "x",
         "y": [
          36297
         ],
         "yaxis": "y"
        },
        {
         "alignmentgroup": "True",
         "bingroup": "x",
         "histfunc": "sum",
         "hovertemplate": "nome_area=%{x}<br>sum of seconda_dose=%{y}<extra></extra>",
         "legendgroup": "Campania",
         "marker": {
          "color": "#ab63fa",
          "opacity": 0.5
         },
         "name": "Campania",
         "offsetgroup": "Campania",
         "orientation": "v",
         "showlegend": true,
         "type": "histogram",
         "x": [
          "Campania"
         ],
         "xaxis": "x",
         "y": [
          105668
         ],
         "yaxis": "y"
        },
        {
         "alignmentgroup": "True",
         "bingroup": "x",
         "histfunc": "sum",
         "hovertemplate": "nome_area=%{x}<br>sum of seconda_dose=%{y}<extra></extra>",
         "legendgroup": "Emilia-Romagna",
         "marker": {
          "color": "#FFA15A",
          "opacity": 0.5
         },
         "name": "Emilia-Romagna",
         "offsetgroup": "Emilia-Romagna",
         "orientation": "v",
         "showlegend": true,
         "type": "histogram",
         "x": [
          "Emilia-Romagna"
         ],
         "xaxis": "x",
         "y": [
          132034
         ],
         "yaxis": "y"
        },
        {
         "alignmentgroup": "True",
         "bingroup": "x",
         "histfunc": "sum",
         "hovertemplate": "nome_area=%{x}<br>sum of seconda_dose=%{y}<extra></extra>",
         "legendgroup": "Friuli-Venezia Giulia",
         "marker": {
          "color": "#19d3f3",
          "opacity": 0.5
         },
         "name": "Friuli-Venezia Giulia",
         "offsetgroup": "Friuli-Venezia Giulia",
         "orientation": "v",
         "showlegend": true,
         "type": "histogram",
         "x": [
          "Friuli-Venezia Giulia"
         ],
         "xaxis": "x",
         "y": [
          35596
         ],
         "yaxis": "y"
        },
        {
         "alignmentgroup": "True",
         "bingroup": "x",
         "histfunc": "sum",
         "hovertemplate": "nome_area=%{x}<br>sum of seconda_dose=%{y}<extra></extra>",
         "legendgroup": "Lazio",
         "marker": {
          "color": "#FF6692",
          "opacity": 0.5
         },
         "name": "Lazio",
         "offsetgroup": "Lazio",
         "orientation": "v",
         "showlegend": true,
         "type": "histogram",
         "x": [
          "Lazio"
         ],
         "xaxis": "x",
         "y": [
          120807
         ],
         "yaxis": "y"
        },
        {
         "alignmentgroup": "True",
         "bingroup": "x",
         "histfunc": "sum",
         "hovertemplate": "nome_area=%{x}<br>sum of seconda_dose=%{y}<extra></extra>",
         "legendgroup": "Liguria",
         "marker": {
          "color": "#B6E880",
          "opacity": 0.5
         },
         "name": "Liguria",
         "offsetgroup": "Liguria",
         "orientation": "v",
         "showlegend": true,
         "type": "histogram",
         "x": [
          "Liguria"
         ],
         "xaxis": "x",
         "y": [
          36519
         ],
         "yaxis": "y"
        },
        {
         "alignmentgroup": "True",
         "bingroup": "x",
         "histfunc": "sum",
         "hovertemplate": "nome_area=%{x}<br>sum of seconda_dose=%{y}<extra></extra>",
         "legendgroup": "Lombardia",
         "marker": {
          "color": "#FF97FF",
          "opacity": 0.5
         },
         "name": "Lombardia",
         "offsetgroup": "Lombardia",
         "orientation": "v",
         "showlegend": true,
         "type": "histogram",
         "x": [
          "Lombardia"
         ],
         "xaxis": "x",
         "y": [
          240865
         ],
         "yaxis": "y"
        },
        {
         "alignmentgroup": "True",
         "bingroup": "x",
         "histfunc": "sum",
         "hovertemplate": "nome_area=%{x}<br>sum of seconda_dose=%{y}<extra></extra>",
         "legendgroup": "Marche",
         "marker": {
          "color": "#FECB52",
          "opacity": 0.5
         },
         "name": "Marche",
         "offsetgroup": "Marche",
         "orientation": "v",
         "showlegend": true,
         "type": "histogram",
         "x": [
          "Marche"
         ],
         "xaxis": "x",
         "y": [
          28422
         ],
         "yaxis": "y"
        },
        {
         "alignmentgroup": "True",
         "bingroup": "x",
         "histfunc": "sum",
         "hovertemplate": "nome_area=%{x}<br>sum of seconda_dose=%{y}<extra></extra>",
         "legendgroup": "Molise",
         "marker": {
          "color": "#636efa",
          "opacity": 0.5
         },
         "name": "Molise",
         "offsetgroup": "Molise",
         "orientation": "v",
         "showlegend": true,
         "type": "histogram",
         "x": [
          "Molise"
         ],
         "xaxis": "x",
         "y": [
          7289
         ],
         "yaxis": "y"
        },
        {
         "alignmentgroup": "True",
         "bingroup": "x",
         "histfunc": "sum",
         "hovertemplate": "nome_area=%{x}<br>sum of seconda_dose=%{y}<extra></extra>",
         "legendgroup": "Piemonte",
         "marker": {
          "color": "#EF553B",
          "opacity": 0.5
         },
         "name": "Piemonte",
         "offsetgroup": "Piemonte",
         "orientation": "v",
         "showlegend": true,
         "type": "histogram",
         "x": [
          "Piemonte"
         ],
         "xaxis": "x",
         "y": [
          136380
         ],
         "yaxis": "y"
        },
        {
         "alignmentgroup": "True",
         "bingroup": "x",
         "histfunc": "sum",
         "hovertemplate": "nome_area=%{x}<br>sum of seconda_dose=%{y}<extra></extra>",
         "legendgroup": "Provincia Autonoma Bolzano / Bozen",
         "marker": {
          "color": "#00cc96",
          "opacity": 0.5
         },
         "name": "Provincia Autonoma Bolzano / Bozen",
         "offsetgroup": "Provincia Autonoma Bolzano / Bozen",
         "orientation": "v",
         "showlegend": true,
         "type": "histogram",
         "x": [
          "Provincia Autonoma Bolzano / Bozen"
         ],
         "xaxis": "x",
         "y": [
          22272
         ],
         "yaxis": "y"
        },
        {
         "alignmentgroup": "True",
         "bingroup": "x",
         "histfunc": "sum",
         "hovertemplate": "nome_area=%{x}<br>sum of seconda_dose=%{y}<extra></extra>",
         "legendgroup": "Provincia Autonoma Trento",
         "marker": {
          "color": "#ab63fa",
          "opacity": 0.5
         },
         "name": "Provincia Autonoma Trento",
         "offsetgroup": "Provincia Autonoma Trento",
         "orientation": "v",
         "showlegend": true,
         "type": "histogram",
         "x": [
          "Provincia Autonoma Trento"
         ],
         "xaxis": "x",
         "y": [
          14584
         ],
         "yaxis": "y"
        },
        {
         "alignmentgroup": "True",
         "bingroup": "x",
         "histfunc": "sum",
         "hovertemplate": "nome_area=%{x}<br>sum of seconda_dose=%{y}<extra></extra>",
         "legendgroup": "Puglia",
         "marker": {
          "color": "#FFA15A",
          "opacity": 0.5
         },
         "name": "Puglia",
         "offsetgroup": "Puglia",
         "orientation": "v",
         "showlegend": true,
         "type": "histogram",
         "x": [
          "Puglia"
         ],
         "xaxis": "x",
         "y": [
          74985
         ],
         "yaxis": "y"
        },
        {
         "alignmentgroup": "True",
         "bingroup": "x",
         "histfunc": "sum",
         "hovertemplate": "nome_area=%{x}<br>sum of seconda_dose=%{y}<extra></extra>",
         "legendgroup": "Sardegna",
         "marker": {
          "color": "#19d3f3",
          "opacity": 0.5
         },
         "name": "Sardegna",
         "offsetgroup": "Sardegna",
         "orientation": "v",
         "showlegend": true,
         "type": "histogram",
         "x": [
          "Sardegna"
         ],
         "xaxis": "x",
         "y": [
          27789
         ],
         "yaxis": "y"
        },
        {
         "alignmentgroup": "True",
         "bingroup": "x",
         "histfunc": "sum",
         "hovertemplate": "nome_area=%{x}<br>sum of seconda_dose=%{y}<extra></extra>",
         "legendgroup": "Sicilia",
         "marker": {
          "color": "#FF6692",
          "opacity": 0.5
         },
         "name": "Sicilia",
         "offsetgroup": "Sicilia",
         "orientation": "v",
         "showlegend": true,
         "type": "histogram",
         "x": [
          "Sicilia"
         ],
         "xaxis": "x",
         "y": [
          104104
         ],
         "yaxis": "y"
        },
        {
         "alignmentgroup": "True",
         "bingroup": "x",
         "histfunc": "sum",
         "hovertemplate": "nome_area=%{x}<br>sum of seconda_dose=%{y}<extra></extra>",
         "legendgroup": "Toscana",
         "marker": {
          "color": "#B6E880",
          "opacity": 0.5
         },
         "name": "Toscana",
         "offsetgroup": "Toscana",
         "orientation": "v",
         "showlegend": true,
         "type": "histogram",
         "x": [
          "Toscana"
         ],
         "xaxis": "x",
         "y": [
          75176
         ],
         "yaxis": "y"
        },
        {
         "alignmentgroup": "True",
         "bingroup": "x",
         "histfunc": "sum",
         "hovertemplate": "nome_area=%{x}<br>sum of seconda_dose=%{y}<extra></extra>",
         "legendgroup": "Umbria",
         "marker": {
          "color": "#FF97FF",
          "opacity": 0.5
         },
         "name": "Umbria",
         "offsetgroup": "Umbria",
         "orientation": "v",
         "showlegend": true,
         "type": "histogram",
         "x": [
          "Umbria"
         ],
         "xaxis": "x",
         "y": [
          13912
         ],
         "yaxis": "y"
        },
        {
         "alignmentgroup": "True",
         "bingroup": "x",
         "histfunc": "sum",
         "hovertemplate": "nome_area=%{x}<br>sum of seconda_dose=%{y}<extra></extra>",
         "legendgroup": "Valle d'Aosta / Vallée d'Aoste",
         "marker": {
          "color": "#FECB52",
          "opacity": 0.5
         },
         "name": "Valle d'Aosta / Vallée d'Aoste",
         "offsetgroup": "Valle d'Aosta / Vallée d'Aoste",
         "orientation": "v",
         "showlegend": true,
         "type": "histogram",
         "x": [
          "Valle d'Aosta / Vallée d'Aoste"
         ],
         "xaxis": "x",
         "y": [
          4184
         ],
         "yaxis": "y"
        },
        {
         "alignmentgroup": "True",
         "bingroup": "x",
         "histfunc": "sum",
         "hovertemplate": "nome_area=%{x}<br>sum of seconda_dose=%{y}<extra></extra>",
         "legendgroup": "Veneto",
         "marker": {
          "color": "#636efa",
          "opacity": 0.5
         },
         "name": "Veneto",
         "offsetgroup": "Veneto",
         "orientation": "v",
         "showlegend": true,
         "type": "histogram",
         "x": [
          "Veneto"
         ],
         "xaxis": "x",
         "y": [
          110660
         ],
         "yaxis": "y"
        }
       ],
       "layout": {
        "barmode": "overlay",
        "height": 600,
        "legend": {
         "title": {
          "text": "nome_area"
         },
         "tracegroupgap": 0
        },
        "template": {
         "data": {
          "bar": [
           {
            "error_x": {
             "color": "#2a3f5f"
            },
            "error_y": {
             "color": "#2a3f5f"
            },
            "marker": {
             "line": {
              "color": "#E5ECF6",
              "width": 0.5
             }
            },
            "type": "bar"
           }
          ],
          "barpolar": [
           {
            "marker": {
             "line": {
              "color": "#E5ECF6",
              "width": 0.5
             }
            },
            "type": "barpolar"
           }
          ],
          "carpet": [
           {
            "aaxis": {
             "endlinecolor": "#2a3f5f",
             "gridcolor": "white",
             "linecolor": "white",
             "minorgridcolor": "white",
             "startlinecolor": "#2a3f5f"
            },
            "baxis": {
             "endlinecolor": "#2a3f5f",
             "gridcolor": "white",
             "linecolor": "white",
             "minorgridcolor": "white",
             "startlinecolor": "#2a3f5f"
            },
            "type": "carpet"
           }
          ],
          "choropleth": [
           {
            "colorbar": {
             "outlinewidth": 0,
             "ticks": ""
            },
            "type": "choropleth"
           }
          ],
          "contour": [
           {
            "colorbar": {
             "outlinewidth": 0,
             "ticks": ""
            },
            "colorscale": [
             [
              0.0,
              "#0d0887"
             ],
             [
              0.1111111111111111,
              "#46039f"
             ],
             [
              0.2222222222222222,
              "#7201a8"
             ],
             [
              0.3333333333333333,
              "#9c179e"
             ],
             [
              0.4444444444444444,
              "#bd3786"
             ],
             [
              0.5555555555555556,
              "#d8576b"
             ],
             [
              0.6666666666666666,
              "#ed7953"
             ],
             [
              0.7777777777777778,
              "#fb9f3a"
             ],
             [
              0.8888888888888888,
              "#fdca26"
             ],
             [
              1.0,
              "#f0f921"
             ]
            ],
            "type": "contour"
           }
          ],
          "contourcarpet": [
           {
            "colorbar": {
             "outlinewidth": 0,
             "ticks": ""
            },
            "type": "contourcarpet"
           }
          ],
          "heatmap": [
           {
            "colorbar": {
             "outlinewidth": 0,
             "ticks": ""
            },
            "colorscale": [
             [
              0.0,
              "#0d0887"
             ],
             [
              0.1111111111111111,
              "#46039f"
             ],
             [
              0.2222222222222222,
              "#7201a8"
             ],
             [
              0.3333333333333333,
              "#9c179e"
             ],
             [
              0.4444444444444444,
              "#bd3786"
             ],
             [
              0.5555555555555556,
              "#d8576b"
             ],
             [
              0.6666666666666666,
              "#ed7953"
             ],
             [
              0.7777777777777778,
              "#fb9f3a"
             ],
             [
              0.8888888888888888,
              "#fdca26"
             ],
             [
              1.0,
              "#f0f921"
             ]
            ],
            "type": "heatmap"
           }
          ],
          "heatmapgl": [
           {
            "colorbar": {
             "outlinewidth": 0,
             "ticks": ""
            },
            "colorscale": [
             [
              0.0,
              "#0d0887"
             ],
             [
              0.1111111111111111,
              "#46039f"
             ],
             [
              0.2222222222222222,
              "#7201a8"
             ],
             [
              0.3333333333333333,
              "#9c179e"
             ],
             [
              0.4444444444444444,
              "#bd3786"
             ],
             [
              0.5555555555555556,
              "#d8576b"
             ],
             [
              0.6666666666666666,
              "#ed7953"
             ],
             [
              0.7777777777777778,
              "#fb9f3a"
             ],
             [
              0.8888888888888888,
              "#fdca26"
             ],
             [
              1.0,
              "#f0f921"
             ]
            ],
            "type": "heatmapgl"
           }
          ],
          "histogram": [
           {
            "marker": {
             "colorbar": {
              "outlinewidth": 0,
              "ticks": ""
             }
            },
            "type": "histogram"
           }
          ],
          "histogram2d": [
           {
            "colorbar": {
             "outlinewidth": 0,
             "ticks": ""
            },
            "colorscale": [
             [
              0.0,
              "#0d0887"
             ],
             [
              0.1111111111111111,
              "#46039f"
             ],
             [
              0.2222222222222222,
              "#7201a8"
             ],
             [
              0.3333333333333333,
              "#9c179e"
             ],
             [
              0.4444444444444444,
              "#bd3786"
             ],
             [
              0.5555555555555556,
              "#d8576b"
             ],
             [
              0.6666666666666666,
              "#ed7953"
             ],
             [
              0.7777777777777778,
              "#fb9f3a"
             ],
             [
              0.8888888888888888,
              "#fdca26"
             ],
             [
              1.0,
              "#f0f921"
             ]
            ],
            "type": "histogram2d"
           }
          ],
          "histogram2dcontour": [
           {
            "colorbar": {
             "outlinewidth": 0,
             "ticks": ""
            },
            "colorscale": [
             [
              0.0,
              "#0d0887"
             ],
             [
              0.1111111111111111,
              "#46039f"
             ],
             [
              0.2222222222222222,
              "#7201a8"
             ],
             [
              0.3333333333333333,
              "#9c179e"
             ],
             [
              0.4444444444444444,
              "#bd3786"
             ],
             [
              0.5555555555555556,
              "#d8576b"
             ],
             [
              0.6666666666666666,
              "#ed7953"
             ],
             [
              0.7777777777777778,
              "#fb9f3a"
             ],
             [
              0.8888888888888888,
              "#fdca26"
             ],
             [
              1.0,
              "#f0f921"
             ]
            ],
            "type": "histogram2dcontour"
           }
          ],
          "mesh3d": [
           {
            "colorbar": {
             "outlinewidth": 0,
             "ticks": ""
            },
            "type": "mesh3d"
           }
          ],
          "parcoords": [
           {
            "line": {
             "colorbar": {
              "outlinewidth": 0,
              "ticks": ""
             }
            },
            "type": "parcoords"
           }
          ],
          "pie": [
           {
            "automargin": true,
            "type": "pie"
           }
          ],
          "scatter": [
           {
            "marker": {
             "colorbar": {
              "outlinewidth": 0,
              "ticks": ""
             }
            },
            "type": "scatter"
           }
          ],
          "scatter3d": [
           {
            "line": {
             "colorbar": {
              "outlinewidth": 0,
              "ticks": ""
             }
            },
            "marker": {
             "colorbar": {
              "outlinewidth": 0,
              "ticks": ""
             }
            },
            "type": "scatter3d"
           }
          ],
          "scattercarpet": [
           {
            "marker": {
             "colorbar": {
              "outlinewidth": 0,
              "ticks": ""
             }
            },
            "type": "scattercarpet"
           }
          ],
          "scattergeo": [
           {
            "marker": {
             "colorbar": {
              "outlinewidth": 0,
              "ticks": ""
             }
            },
            "type": "scattergeo"
           }
          ],
          "scattergl": [
           {
            "marker": {
             "colorbar": {
              "outlinewidth": 0,
              "ticks": ""
             }
            },
            "type": "scattergl"
           }
          ],
          "scattermapbox": [
           {
            "marker": {
             "colorbar": {
              "outlinewidth": 0,
              "ticks": ""
             }
            },
            "type": "scattermapbox"
           }
          ],
          "scatterpolar": [
           {
            "marker": {
             "colorbar": {
              "outlinewidth": 0,
              "ticks": ""
             }
            },
            "type": "scatterpolar"
           }
          ],
          "scatterpolargl": [
           {
            "marker": {
             "colorbar": {
              "outlinewidth": 0,
              "ticks": ""
             }
            },
            "type": "scatterpolargl"
           }
          ],
          "scatterternary": [
           {
            "marker": {
             "colorbar": {
              "outlinewidth": 0,
              "ticks": ""
             }
            },
            "type": "scatterternary"
           }
          ],
          "surface": [
           {
            "colorbar": {
             "outlinewidth": 0,
             "ticks": ""
            },
            "colorscale": [
             [
              0.0,
              "#0d0887"
             ],
             [
              0.1111111111111111,
              "#46039f"
             ],
             [
              0.2222222222222222,
              "#7201a8"
             ],
             [
              0.3333333333333333,
              "#9c179e"
             ],
             [
              0.4444444444444444,
              "#bd3786"
             ],
             [
              0.5555555555555556,
              "#d8576b"
             ],
             [
              0.6666666666666666,
              "#ed7953"
             ],
             [
              0.7777777777777778,
              "#fb9f3a"
             ],
             [
              0.8888888888888888,
              "#fdca26"
             ],
             [
              1.0,
              "#f0f921"
             ]
            ],
            "type": "surface"
           }
          ],
          "table": [
           {
            "cells": {
             "fill": {
              "color": "#EBF0F8"
             },
             "line": {
              "color": "white"
             }
            },
            "header": {
             "fill": {
              "color": "#C8D4E3"
             },
             "line": {
              "color": "white"
             }
            },
            "type": "table"
           }
          ]
         },
         "layout": {
          "annotationdefaults": {
           "arrowcolor": "#2a3f5f",
           "arrowhead": 0,
           "arrowwidth": 1
          },
          "autotypenumbers": "strict",
          "coloraxis": {
           "colorbar": {
            "outlinewidth": 0,
            "ticks": ""
           }
          },
          "colorscale": {
           "diverging": [
            [
             0,
             "#8e0152"
            ],
            [
             0.1,
             "#c51b7d"
            ],
            [
             0.2,
             "#de77ae"
            ],
            [
             0.3,
             "#f1b6da"
            ],
            [
             0.4,
             "#fde0ef"
            ],
            [
             0.5,
             "#f7f7f7"
            ],
            [
             0.6,
             "#e6f5d0"
            ],
            [
             0.7,
             "#b8e186"
            ],
            [
             0.8,
             "#7fbc41"
            ],
            [
             0.9,
             "#4d9221"
            ],
            [
             1,
             "#276419"
            ]
           ],
           "sequential": [
            [
             0.0,
             "#0d0887"
            ],
            [
             0.1111111111111111,
             "#46039f"
            ],
            [
             0.2222222222222222,
             "#7201a8"
            ],
            [
             0.3333333333333333,
             "#9c179e"
            ],
            [
             0.4444444444444444,
             "#bd3786"
            ],
            [
             0.5555555555555556,
             "#d8576b"
            ],
            [
             0.6666666666666666,
             "#ed7953"
            ],
            [
             0.7777777777777778,
             "#fb9f3a"
            ],
            [
             0.8888888888888888,
             "#fdca26"
            ],
            [
             1.0,
             "#f0f921"
            ]
           ],
           "sequentialminus": [
            [
             0.0,
             "#0d0887"
            ],
            [
             0.1111111111111111,
             "#46039f"
            ],
            [
             0.2222222222222222,
             "#7201a8"
            ],
            [
             0.3333333333333333,
             "#9c179e"
            ],
            [
             0.4444444444444444,
             "#bd3786"
            ],
            [
             0.5555555555555556,
             "#d8576b"
            ],
            [
             0.6666666666666666,
             "#ed7953"
            ],
            [
             0.7777777777777778,
             "#fb9f3a"
            ],
            [
             0.8888888888888888,
             "#fdca26"
            ],
            [
             1.0,
             "#f0f921"
            ]
           ]
          },
          "colorway": [
           "#636efa",
           "#EF553B",
           "#00cc96",
           "#ab63fa",
           "#FFA15A",
           "#19d3f3",
           "#FF6692",
           "#B6E880",
           "#FF97FF",
           "#FECB52"
          ],
          "font": {
           "color": "#2a3f5f"
          },
          "geo": {
           "bgcolor": "white",
           "lakecolor": "white",
           "landcolor": "#E5ECF6",
           "showlakes": true,
           "showland": true,
           "subunitcolor": "white"
          },
          "hoverlabel": {
           "align": "left"
          },
          "hovermode": "closest",
          "mapbox": {
           "style": "light"
          },
          "paper_bgcolor": "white",
          "plot_bgcolor": "#E5ECF6",
          "polar": {
           "angularaxis": {
            "gridcolor": "white",
            "linecolor": "white",
            "ticks": ""
           },
           "bgcolor": "#E5ECF6",
           "radialaxis": {
            "gridcolor": "white",
            "linecolor": "white",
            "ticks": ""
           }
          },
          "scene": {
           "xaxis": {
            "backgroundcolor": "#E5ECF6",
            "gridcolor": "white",
            "gridwidth": 2,
            "linecolor": "white",
            "showbackground": true,
            "ticks": "",
            "zerolinecolor": "white"
           },
           "yaxis": {
            "backgroundcolor": "#E5ECF6",
            "gridcolor": "white",
            "gridwidth": 2,
            "linecolor": "white",
            "showbackground": true,
            "ticks": "",
            "zerolinecolor": "white"
           },
           "zaxis": {
            "backgroundcolor": "#E5ECF6",
            "gridcolor": "white",
            "gridwidth": 2,
            "linecolor": "white",
            "showbackground": true,
            "ticks": "",
            "zerolinecolor": "white"
           }
          },
          "shapedefaults": {
           "line": {
            "color": "#2a3f5f"
           }
          },
          "ternary": {
           "aaxis": {
            "gridcolor": "white",
            "linecolor": "white",
            "ticks": ""
           },
           "baxis": {
            "gridcolor": "white",
            "linecolor": "white",
            "ticks": ""
           },
           "bgcolor": "#E5ECF6",
           "caxis": {
            "gridcolor": "white",
            "linecolor": "white",
            "ticks": ""
           }
          },
          "title": {
           "x": 0.05
          },
          "xaxis": {
           "automargin": true,
           "gridcolor": "white",
           "linecolor": "white",
           "ticks": "",
           "title": {
            "standoff": 15
           },
           "zerolinecolor": "white",
           "zerolinewidth": 2
          },
          "yaxis": {
           "automargin": true,
           "gridcolor": "white",
           "linecolor": "white",
           "ticks": "",
           "title": {
            "standoff": 15
           },
           "zerolinecolor": "white",
           "zerolinewidth": 2
          }
         }
        },
        "title": {
         "text": "#seconda_dose per Regione"
        },
        "width": 800,
        "xaxis": {
         "anchor": "y",
         "categoryarray": [
          "Abruzzo",
          "Basilicata",
          "Calabria",
          "Campania",
          "Emilia-Romagna",
          "Friuli-Venezia Giulia",
          "Lazio",
          "Liguria",
          "Lombardia",
          "Marche",
          "Molise",
          "Piemonte",
          "Provincia Autonoma Bolzano / Bozen",
          "Provincia Autonoma Trento",
          "Puglia",
          "Sardegna",
          "Sicilia",
          "Toscana",
          "Umbria",
          "Valle d'Aosta / Vallée d'Aoste",
          "Veneto"
         ],
         "categoryorder": "array",
         "domain": [
          0.0,
          1.0
         ],
         "title": {}
        },
        "yaxis": {
         "anchor": "x",
         "domain": [
          0.0,
          1.0
         ],
         "title": {
          "text": "#seconda_dose"
         }
        }
       }
      },
      "text/html": "<div>                            <div id=\"2b810502-4630-4fc6-839a-8fe149a2ffa9\" class=\"plotly-graph-div\" style=\"height:600px; width:800px;\"></div>            <script type=\"text/javascript\">                require([\"plotly\"], function(Plotly) {                    window.PLOTLYENV=window.PLOTLYENV || {};                                    if (document.getElementById(\"2b810502-4630-4fc6-839a-8fe149a2ffa9\")) {                    Plotly.newPlot(                        \"2b810502-4630-4fc6-839a-8fe149a2ffa9\",                        [{\"alignmentgroup\": \"True\", \"bingroup\": \"x\", \"histfunc\": \"sum\", \"hovertemplate\": \"nome_area=%{x}<br>sum of seconda_dose=%{y}<extra></extra>\", \"legendgroup\": \"Abruzzo\", \"marker\": {\"color\": \"#636efa\", \"opacity\": 0.5}, \"name\": \"Abruzzo\", \"offsetgroup\": \"Abruzzo\", \"orientation\": \"v\", \"showlegend\": true, \"type\": \"histogram\", \"x\": [\"Abruzzo\"], \"xaxis\": \"x\", \"y\": [20792], \"yaxis\": \"y\"}, {\"alignmentgroup\": \"True\", \"bingroup\": \"x\", \"histfunc\": \"sum\", \"hovertemplate\": \"nome_area=%{x}<br>sum of seconda_dose=%{y}<extra></extra>\", \"legendgroup\": \"Basilicata\", \"marker\": {\"color\": \"#EF553B\", \"opacity\": 0.5}, \"name\": \"Basilicata\", \"offsetgroup\": \"Basilicata\", \"orientation\": \"v\", \"showlegend\": true, \"type\": \"histogram\", \"x\": [\"Basilicata\"], \"xaxis\": \"x\", \"y\": [11322], \"yaxis\": \"y\"}, {\"alignmentgroup\": \"True\", \"bingroup\": \"x\", \"histfunc\": \"sum\", \"hovertemplate\": \"nome_area=%{x}<br>sum of seconda_dose=%{y}<extra></extra>\", \"legendgroup\": \"Calabria\", \"marker\": {\"color\": \"#00cc96\", \"opacity\": 0.5}, \"name\": \"Calabria\", \"offsetgroup\": \"Calabria\", \"orientation\": \"v\", \"showlegend\": true, \"type\": \"histogram\", \"x\": [\"Calabria\"], \"xaxis\": \"x\", \"y\": [36297], \"yaxis\": \"y\"}, {\"alignmentgroup\": \"True\", \"bingroup\": \"x\", \"histfunc\": \"sum\", \"hovertemplate\": \"nome_area=%{x}<br>sum of seconda_dose=%{y}<extra></extra>\", \"legendgroup\": \"Campania\", \"marker\": {\"color\": \"#ab63fa\", \"opacity\": 0.5}, \"name\": \"Campania\", \"offsetgroup\": \"Campania\", \"orientation\": \"v\", \"showlegend\": true, \"type\": \"histogram\", \"x\": [\"Campania\"], \"xaxis\": \"x\", \"y\": [105668], \"yaxis\": \"y\"}, {\"alignmentgroup\": \"True\", \"bingroup\": \"x\", \"histfunc\": \"sum\", \"hovertemplate\": \"nome_area=%{x}<br>sum of seconda_dose=%{y}<extra></extra>\", \"legendgroup\": \"Emilia-Romagna\", \"marker\": {\"color\": \"#FFA15A\", \"opacity\": 0.5}, \"name\": \"Emilia-Romagna\", \"offsetgroup\": \"Emilia-Romagna\", \"orientation\": \"v\", \"showlegend\": true, \"type\": \"histogram\", \"x\": [\"Emilia-Romagna\"], \"xaxis\": \"x\", \"y\": [132034], \"yaxis\": \"y\"}, {\"alignmentgroup\": \"True\", \"bingroup\": \"x\", \"histfunc\": \"sum\", \"hovertemplate\": \"nome_area=%{x}<br>sum of seconda_dose=%{y}<extra></extra>\", \"legendgroup\": \"Friuli-Venezia Giulia\", \"marker\": {\"color\": \"#19d3f3\", \"opacity\": 0.5}, \"name\": \"Friuli-Venezia Giulia\", \"offsetgroup\": \"Friuli-Venezia Giulia\", \"orientation\": \"v\", \"showlegend\": true, \"type\": \"histogram\", \"x\": [\"Friuli-Venezia Giulia\"], \"xaxis\": \"x\", \"y\": [35596], \"yaxis\": \"y\"}, {\"alignmentgroup\": \"True\", \"bingroup\": \"x\", \"histfunc\": \"sum\", \"hovertemplate\": \"nome_area=%{x}<br>sum of seconda_dose=%{y}<extra></extra>\", \"legendgroup\": \"Lazio\", \"marker\": {\"color\": \"#FF6692\", \"opacity\": 0.5}, \"name\": \"Lazio\", \"offsetgroup\": \"Lazio\", \"orientation\": \"v\", \"showlegend\": true, \"type\": \"histogram\", \"x\": [\"Lazio\"], \"xaxis\": \"x\", \"y\": [120807], \"yaxis\": \"y\"}, {\"alignmentgroup\": \"True\", \"bingroup\": \"x\", \"histfunc\": \"sum\", \"hovertemplate\": \"nome_area=%{x}<br>sum of seconda_dose=%{y}<extra></extra>\", \"legendgroup\": \"Liguria\", \"marker\": {\"color\": \"#B6E880\", \"opacity\": 0.5}, \"name\": \"Liguria\", \"offsetgroup\": \"Liguria\", \"orientation\": \"v\", \"showlegend\": true, \"type\": \"histogram\", \"x\": [\"Liguria\"], \"xaxis\": \"x\", \"y\": [36519], \"yaxis\": \"y\"}, {\"alignmentgroup\": \"True\", \"bingroup\": \"x\", \"histfunc\": \"sum\", \"hovertemplate\": \"nome_area=%{x}<br>sum of seconda_dose=%{y}<extra></extra>\", \"legendgroup\": \"Lombardia\", \"marker\": {\"color\": \"#FF97FF\", \"opacity\": 0.5}, \"name\": \"Lombardia\", \"offsetgroup\": \"Lombardia\", \"orientation\": \"v\", \"showlegend\": true, \"type\": \"histogram\", \"x\": [\"Lombardia\"], \"xaxis\": \"x\", \"y\": [240865], \"yaxis\": \"y\"}, {\"alignmentgroup\": \"True\", \"bingroup\": \"x\", \"histfunc\": \"sum\", \"hovertemplate\": \"nome_area=%{x}<br>sum of seconda_dose=%{y}<extra></extra>\", \"legendgroup\": \"Marche\", \"marker\": {\"color\": \"#FECB52\", \"opacity\": 0.5}, \"name\": \"Marche\", \"offsetgroup\": \"Marche\", \"orientation\": \"v\", \"showlegend\": true, \"type\": \"histogram\", \"x\": [\"Marche\"], \"xaxis\": \"x\", \"y\": [28422], \"yaxis\": \"y\"}, {\"alignmentgroup\": \"True\", \"bingroup\": \"x\", \"histfunc\": \"sum\", \"hovertemplate\": \"nome_area=%{x}<br>sum of seconda_dose=%{y}<extra></extra>\", \"legendgroup\": \"Molise\", \"marker\": {\"color\": \"#636efa\", \"opacity\": 0.5}, \"name\": \"Molise\", \"offsetgroup\": \"Molise\", \"orientation\": \"v\", \"showlegend\": true, \"type\": \"histogram\", \"x\": [\"Molise\"], \"xaxis\": \"x\", \"y\": [7289], \"yaxis\": \"y\"}, {\"alignmentgroup\": \"True\", \"bingroup\": \"x\", \"histfunc\": \"sum\", \"hovertemplate\": \"nome_area=%{x}<br>sum of seconda_dose=%{y}<extra></extra>\", \"legendgroup\": \"Piemonte\", \"marker\": {\"color\": \"#EF553B\", \"opacity\": 0.5}, \"name\": \"Piemonte\", \"offsetgroup\": \"Piemonte\", \"orientation\": \"v\", \"showlegend\": true, \"type\": \"histogram\", \"x\": [\"Piemonte\"], \"xaxis\": \"x\", \"y\": [136380], \"yaxis\": \"y\"}, {\"alignmentgroup\": \"True\", \"bingroup\": \"x\", \"histfunc\": \"sum\", \"hovertemplate\": \"nome_area=%{x}<br>sum of seconda_dose=%{y}<extra></extra>\", \"legendgroup\": \"Provincia Autonoma Bolzano / Bozen\", \"marker\": {\"color\": \"#00cc96\", \"opacity\": 0.5}, \"name\": \"Provincia Autonoma Bolzano / Bozen\", \"offsetgroup\": \"Provincia Autonoma Bolzano / Bozen\", \"orientation\": \"v\", \"showlegend\": true, \"type\": \"histogram\", \"x\": [\"Provincia Autonoma Bolzano / Bozen\"], \"xaxis\": \"x\", \"y\": [22272], \"yaxis\": \"y\"}, {\"alignmentgroup\": \"True\", \"bingroup\": \"x\", \"histfunc\": \"sum\", \"hovertemplate\": \"nome_area=%{x}<br>sum of seconda_dose=%{y}<extra></extra>\", \"legendgroup\": \"Provincia Autonoma Trento\", \"marker\": {\"color\": \"#ab63fa\", \"opacity\": 0.5}, \"name\": \"Provincia Autonoma Trento\", \"offsetgroup\": \"Provincia Autonoma Trento\", \"orientation\": \"v\", \"showlegend\": true, \"type\": \"histogram\", \"x\": [\"Provincia Autonoma Trento\"], \"xaxis\": \"x\", \"y\": [14584], \"yaxis\": \"y\"}, {\"alignmentgroup\": \"True\", \"bingroup\": \"x\", \"histfunc\": \"sum\", \"hovertemplate\": \"nome_area=%{x}<br>sum of seconda_dose=%{y}<extra></extra>\", \"legendgroup\": \"Puglia\", \"marker\": {\"color\": \"#FFA15A\", \"opacity\": 0.5}, \"name\": \"Puglia\", \"offsetgroup\": \"Puglia\", \"orientation\": \"v\", \"showlegend\": true, \"type\": \"histogram\", \"x\": [\"Puglia\"], \"xaxis\": \"x\", \"y\": [74985], \"yaxis\": \"y\"}, {\"alignmentgroup\": \"True\", \"bingroup\": \"x\", \"histfunc\": \"sum\", \"hovertemplate\": \"nome_area=%{x}<br>sum of seconda_dose=%{y}<extra></extra>\", \"legendgroup\": \"Sardegna\", \"marker\": {\"color\": \"#19d3f3\", \"opacity\": 0.5}, \"name\": \"Sardegna\", \"offsetgroup\": \"Sardegna\", \"orientation\": \"v\", \"showlegend\": true, \"type\": \"histogram\", \"x\": [\"Sardegna\"], \"xaxis\": \"x\", \"y\": [27789], \"yaxis\": \"y\"}, {\"alignmentgroup\": \"True\", \"bingroup\": \"x\", \"histfunc\": \"sum\", \"hovertemplate\": \"nome_area=%{x}<br>sum of seconda_dose=%{y}<extra></extra>\", \"legendgroup\": \"Sicilia\", \"marker\": {\"color\": \"#FF6692\", \"opacity\": 0.5}, \"name\": \"Sicilia\", \"offsetgroup\": \"Sicilia\", \"orientation\": \"v\", \"showlegend\": true, \"type\": \"histogram\", \"x\": [\"Sicilia\"], \"xaxis\": \"x\", \"y\": [104104], \"yaxis\": \"y\"}, {\"alignmentgroup\": \"True\", \"bingroup\": \"x\", \"histfunc\": \"sum\", \"hovertemplate\": \"nome_area=%{x}<br>sum of seconda_dose=%{y}<extra></extra>\", \"legendgroup\": \"Toscana\", \"marker\": {\"color\": \"#B6E880\", \"opacity\": 0.5}, \"name\": \"Toscana\", \"offsetgroup\": \"Toscana\", \"orientation\": \"v\", \"showlegend\": true, \"type\": \"histogram\", \"x\": [\"Toscana\"], \"xaxis\": \"x\", \"y\": [75176], \"yaxis\": \"y\"}, {\"alignmentgroup\": \"True\", \"bingroup\": \"x\", \"histfunc\": \"sum\", \"hovertemplate\": \"nome_area=%{x}<br>sum of seconda_dose=%{y}<extra></extra>\", \"legendgroup\": \"Umbria\", \"marker\": {\"color\": \"#FF97FF\", \"opacity\": 0.5}, \"name\": \"Umbria\", \"offsetgroup\": \"Umbria\", \"orientation\": \"v\", \"showlegend\": true, \"type\": \"histogram\", \"x\": [\"Umbria\"], \"xaxis\": \"x\", \"y\": [13912], \"yaxis\": \"y\"}, {\"alignmentgroup\": \"True\", \"bingroup\": \"x\", \"histfunc\": \"sum\", \"hovertemplate\": \"nome_area=%{x}<br>sum of seconda_dose=%{y}<extra></extra>\", \"legendgroup\": \"Valle d'Aosta / Vall\\u00e9e d'Aoste\", \"marker\": {\"color\": \"#FECB52\", \"opacity\": 0.5}, \"name\": \"Valle d'Aosta / Vall\\u00e9e d'Aoste\", \"offsetgroup\": \"Valle d'Aosta / Vall\\u00e9e d'Aoste\", \"orientation\": \"v\", \"showlegend\": true, \"type\": \"histogram\", \"x\": [\"Valle d'Aosta / Vall\\u00e9e d'Aoste\"], \"xaxis\": \"x\", \"y\": [4184], \"yaxis\": \"y\"}, {\"alignmentgroup\": \"True\", \"bingroup\": \"x\", \"histfunc\": \"sum\", \"hovertemplate\": \"nome_area=%{x}<br>sum of seconda_dose=%{y}<extra></extra>\", \"legendgroup\": \"Veneto\", \"marker\": {\"color\": \"#636efa\", \"opacity\": 0.5}, \"name\": \"Veneto\", \"offsetgroup\": \"Veneto\", \"orientation\": \"v\", \"showlegend\": true, \"type\": \"histogram\", \"x\": [\"Veneto\"], \"xaxis\": \"x\", \"y\": [110660], \"yaxis\": \"y\"}],                        {\"barmode\": \"overlay\", \"height\": 600, \"legend\": {\"title\": {\"text\": \"nome_area\"}, \"tracegroupgap\": 0}, \"template\": {\"data\": {\"bar\": [{\"error_x\": {\"color\": \"#2a3f5f\"}, \"error_y\": {\"color\": \"#2a3f5f\"}, \"marker\": {\"line\": {\"color\": \"#E5ECF6\", \"width\": 0.5}}, \"type\": \"bar\"}], \"barpolar\": [{\"marker\": {\"line\": {\"color\": \"#E5ECF6\", \"width\": 0.5}}, \"type\": \"barpolar\"}], \"carpet\": [{\"aaxis\": {\"endlinecolor\": \"#2a3f5f\", \"gridcolor\": \"white\", \"linecolor\": \"white\", \"minorgridcolor\": \"white\", \"startlinecolor\": \"#2a3f5f\"}, \"baxis\": {\"endlinecolor\": \"#2a3f5f\", \"gridcolor\": \"white\", \"linecolor\": \"white\", \"minorgridcolor\": \"white\", \"startlinecolor\": \"#2a3f5f\"}, \"type\": \"carpet\"}], \"choropleth\": [{\"colorbar\": {\"outlinewidth\": 0, \"ticks\": \"\"}, \"type\": \"choropleth\"}], \"contour\": [{\"colorbar\": {\"outlinewidth\": 0, \"ticks\": \"\"}, \"colorscale\": [[0.0, \"#0d0887\"], [0.1111111111111111, \"#46039f\"], [0.2222222222222222, \"#7201a8\"], [0.3333333333333333, \"#9c179e\"], [0.4444444444444444, \"#bd3786\"], [0.5555555555555556, \"#d8576b\"], [0.6666666666666666, \"#ed7953\"], [0.7777777777777778, \"#fb9f3a\"], [0.8888888888888888, \"#fdca26\"], [1.0, \"#f0f921\"]], \"type\": \"contour\"}], \"contourcarpet\": [{\"colorbar\": {\"outlinewidth\": 0, \"ticks\": \"\"}, \"type\": \"contourcarpet\"}], \"heatmap\": [{\"colorbar\": {\"outlinewidth\": 0, \"ticks\": \"\"}, \"colorscale\": [[0.0, \"#0d0887\"], [0.1111111111111111, \"#46039f\"], [0.2222222222222222, \"#7201a8\"], [0.3333333333333333, \"#9c179e\"], [0.4444444444444444, \"#bd3786\"], [0.5555555555555556, \"#d8576b\"], [0.6666666666666666, \"#ed7953\"], [0.7777777777777778, \"#fb9f3a\"], [0.8888888888888888, \"#fdca26\"], [1.0, \"#f0f921\"]], \"type\": \"heatmap\"}], \"heatmapgl\": [{\"colorbar\": {\"outlinewidth\": 0, \"ticks\": \"\"}, \"colorscale\": [[0.0, \"#0d0887\"], [0.1111111111111111, \"#46039f\"], [0.2222222222222222, \"#7201a8\"], [0.3333333333333333, \"#9c179e\"], [0.4444444444444444, \"#bd3786\"], [0.5555555555555556, \"#d8576b\"], [0.6666666666666666, \"#ed7953\"], [0.7777777777777778, \"#fb9f3a\"], [0.8888888888888888, \"#fdca26\"], [1.0, \"#f0f921\"]], \"type\": \"heatmapgl\"}], \"histogram\": [{\"marker\": {\"colorbar\": {\"outlinewidth\": 0, \"ticks\": \"\"}}, \"type\": \"histogram\"}], \"histogram2d\": [{\"colorbar\": {\"outlinewidth\": 0, \"ticks\": \"\"}, \"colorscale\": [[0.0, \"#0d0887\"], [0.1111111111111111, \"#46039f\"], [0.2222222222222222, \"#7201a8\"], [0.3333333333333333, \"#9c179e\"], [0.4444444444444444, \"#bd3786\"], [0.5555555555555556, \"#d8576b\"], [0.6666666666666666, \"#ed7953\"], [0.7777777777777778, \"#fb9f3a\"], [0.8888888888888888, \"#fdca26\"], [1.0, \"#f0f921\"]], \"type\": \"histogram2d\"}], \"histogram2dcontour\": [{\"colorbar\": {\"outlinewidth\": 0, \"ticks\": \"\"}, \"colorscale\": [[0.0, \"#0d0887\"], [0.1111111111111111, \"#46039f\"], [0.2222222222222222, \"#7201a8\"], [0.3333333333333333, \"#9c179e\"], [0.4444444444444444, \"#bd3786\"], [0.5555555555555556, \"#d8576b\"], [0.6666666666666666, \"#ed7953\"], [0.7777777777777778, \"#fb9f3a\"], [0.8888888888888888, \"#fdca26\"], [1.0, \"#f0f921\"]], \"type\": \"histogram2dcontour\"}], \"mesh3d\": [{\"colorbar\": {\"outlinewidth\": 0, \"ticks\": \"\"}, \"type\": \"mesh3d\"}], \"parcoords\": [{\"line\": {\"colorbar\": {\"outlinewidth\": 0, \"ticks\": \"\"}}, \"type\": \"parcoords\"}], \"pie\": [{\"automargin\": true, \"type\": \"pie\"}], \"scatter\": [{\"marker\": {\"colorbar\": {\"outlinewidth\": 0, \"ticks\": \"\"}}, \"type\": \"scatter\"}], \"scatter3d\": [{\"line\": {\"colorbar\": {\"outlinewidth\": 0, \"ticks\": \"\"}}, \"marker\": {\"colorbar\": {\"outlinewidth\": 0, \"ticks\": \"\"}}, \"type\": \"scatter3d\"}], \"scattercarpet\": [{\"marker\": {\"colorbar\": {\"outlinewidth\": 0, \"ticks\": \"\"}}, \"type\": \"scattercarpet\"}], \"scattergeo\": [{\"marker\": {\"colorbar\": {\"outlinewidth\": 0, \"ticks\": \"\"}}, \"type\": \"scattergeo\"}], \"scattergl\": [{\"marker\": {\"colorbar\": {\"outlinewidth\": 0, \"ticks\": \"\"}}, \"type\": \"scattergl\"}], \"scattermapbox\": [{\"marker\": {\"colorbar\": {\"outlinewidth\": 0, \"ticks\": \"\"}}, \"type\": \"scattermapbox\"}], \"scatterpolar\": [{\"marker\": {\"colorbar\": {\"outlinewidth\": 0, \"ticks\": \"\"}}, \"type\": \"scatterpolar\"}], \"scatterpolargl\": [{\"marker\": {\"colorbar\": {\"outlinewidth\": 0, \"ticks\": \"\"}}, \"type\": \"scatterpolargl\"}], \"scatterternary\": [{\"marker\": {\"colorbar\": {\"outlinewidth\": 0, \"ticks\": \"\"}}, \"type\": \"scatterternary\"}], \"surface\": [{\"colorbar\": {\"outlinewidth\": 0, \"ticks\": \"\"}, \"colorscale\": [[0.0, \"#0d0887\"], [0.1111111111111111, \"#46039f\"], [0.2222222222222222, \"#7201a8\"], [0.3333333333333333, \"#9c179e\"], [0.4444444444444444, \"#bd3786\"], [0.5555555555555556, \"#d8576b\"], [0.6666666666666666, \"#ed7953\"], [0.7777777777777778, \"#fb9f3a\"], [0.8888888888888888, \"#fdca26\"], [1.0, \"#f0f921\"]], \"type\": \"surface\"}], \"table\": [{\"cells\": {\"fill\": {\"color\": \"#EBF0F8\"}, \"line\": {\"color\": \"white\"}}, \"header\": {\"fill\": {\"color\": \"#C8D4E3\"}, \"line\": {\"color\": \"white\"}}, \"type\": \"table\"}]}, \"layout\": {\"annotationdefaults\": {\"arrowcolor\": \"#2a3f5f\", \"arrowhead\": 0, \"arrowwidth\": 1}, \"autotypenumbers\": \"strict\", \"coloraxis\": {\"colorbar\": {\"outlinewidth\": 0, \"ticks\": \"\"}}, \"colorscale\": {\"diverging\": [[0, \"#8e0152\"], [0.1, \"#c51b7d\"], [0.2, \"#de77ae\"], [0.3, \"#f1b6da\"], [0.4, \"#fde0ef\"], [0.5, \"#f7f7f7\"], [0.6, \"#e6f5d0\"], [0.7, \"#b8e186\"], [0.8, \"#7fbc41\"], [0.9, \"#4d9221\"], [1, \"#276419\"]], \"sequential\": [[0.0, \"#0d0887\"], [0.1111111111111111, \"#46039f\"], [0.2222222222222222, \"#7201a8\"], [0.3333333333333333, \"#9c179e\"], [0.4444444444444444, \"#bd3786\"], [0.5555555555555556, \"#d8576b\"], [0.6666666666666666, \"#ed7953\"], [0.7777777777777778, \"#fb9f3a\"], [0.8888888888888888, \"#fdca26\"], [1.0, \"#f0f921\"]], \"sequentialminus\": [[0.0, \"#0d0887\"], [0.1111111111111111, \"#46039f\"], [0.2222222222222222, \"#7201a8\"], [0.3333333333333333, \"#9c179e\"], [0.4444444444444444, \"#bd3786\"], [0.5555555555555556, \"#d8576b\"], [0.6666666666666666, \"#ed7953\"], [0.7777777777777778, \"#fb9f3a\"], [0.8888888888888888, \"#fdca26\"], [1.0, \"#f0f921\"]]}, \"colorway\": [\"#636efa\", \"#EF553B\", \"#00cc96\", \"#ab63fa\", \"#FFA15A\", \"#19d3f3\", \"#FF6692\", \"#B6E880\", \"#FF97FF\", \"#FECB52\"], \"font\": {\"color\": \"#2a3f5f\"}, \"geo\": {\"bgcolor\": \"white\", \"lakecolor\": \"white\", \"landcolor\": \"#E5ECF6\", \"showlakes\": true, \"showland\": true, \"subunitcolor\": \"white\"}, \"hoverlabel\": {\"align\": \"left\"}, \"hovermode\": \"closest\", \"mapbox\": {\"style\": \"light\"}, \"paper_bgcolor\": \"white\", \"plot_bgcolor\": \"#E5ECF6\", \"polar\": {\"angularaxis\": {\"gridcolor\": \"white\", \"linecolor\": \"white\", \"ticks\": \"\"}, \"bgcolor\": \"#E5ECF6\", \"radialaxis\": {\"gridcolor\": \"white\", \"linecolor\": \"white\", \"ticks\": \"\"}}, \"scene\": {\"xaxis\": {\"backgroundcolor\": \"#E5ECF6\", \"gridcolor\": \"white\", \"gridwidth\": 2, \"linecolor\": \"white\", \"showbackground\": true, \"ticks\": \"\", \"zerolinecolor\": \"white\"}, \"yaxis\": {\"backgroundcolor\": \"#E5ECF6\", \"gridcolor\": \"white\", \"gridwidth\": 2, \"linecolor\": \"white\", \"showbackground\": true, \"ticks\": \"\", \"zerolinecolor\": \"white\"}, \"zaxis\": {\"backgroundcolor\": \"#E5ECF6\", \"gridcolor\": \"white\", \"gridwidth\": 2, \"linecolor\": \"white\", \"showbackground\": true, \"ticks\": \"\", \"zerolinecolor\": \"white\"}}, \"shapedefaults\": {\"line\": {\"color\": \"#2a3f5f\"}}, \"ternary\": {\"aaxis\": {\"gridcolor\": \"white\", \"linecolor\": \"white\", \"ticks\": \"\"}, \"baxis\": {\"gridcolor\": \"white\", \"linecolor\": \"white\", \"ticks\": \"\"}, \"bgcolor\": \"#E5ECF6\", \"caxis\": {\"gridcolor\": \"white\", \"linecolor\": \"white\", \"ticks\": \"\"}}, \"title\": {\"x\": 0.05}, \"xaxis\": {\"automargin\": true, \"gridcolor\": \"white\", \"linecolor\": \"white\", \"ticks\": \"\", \"title\": {\"standoff\": 15}, \"zerolinecolor\": \"white\", \"zerolinewidth\": 2}, \"yaxis\": {\"automargin\": true, \"gridcolor\": \"white\", \"linecolor\": \"white\", \"ticks\": \"\", \"title\": {\"standoff\": 15}, \"zerolinecolor\": \"white\", \"zerolinewidth\": 2}}}, \"title\": {\"text\": \"#seconda_dose per Regione\"}, \"width\": 800, \"xaxis\": {\"anchor\": \"y\", \"categoryarray\": [\"Abruzzo\", \"Basilicata\", \"Calabria\", \"Campania\", \"Emilia-Romagna\", \"Friuli-Venezia Giulia\", \"Lazio\", \"Liguria\", \"Lombardia\", \"Marche\", \"Molise\", \"Piemonte\", \"Provincia Autonoma Bolzano / Bozen\", \"Provincia Autonoma Trento\", \"Puglia\", \"Sardegna\", \"Sicilia\", \"Toscana\", \"Umbria\", \"Valle d'Aosta / Vall\\u00e9e d'Aoste\", \"Veneto\"], \"categoryorder\": \"array\", \"domain\": [0.0, 1.0], \"title\": {}}, \"yaxis\": {\"anchor\": \"x\", \"domain\": [0.0, 1.0], \"title\": {\"text\": \"#seconda_dose\"}}},                        {\"responsive\": true}                    ).then(function(){\n                            \nvar gd = document.getElementById('2b810502-4630-4fc6-839a-8fe149a2ffa9');\nvar x = new MutationObserver(function (mutations, observer) {{\n        var display = window.getComputedStyle(gd).display;\n        if (!display || display === 'none') {{\n            console.log([gd, 'removed!']);\n            Plotly.purge(gd);\n            observer.disconnect();\n        }}\n}});\n\n// Listen for the removal of the full notebook cells\nvar notebookContainer = gd.closest('#notebook-container');\nif (notebookContainer) {{\n    x.observe(notebookContainer, {childList: true});\n}}\n\n// Listen for the clearing of the current output cell\nvar outputEl = gd.closest('.output');\nif (outputEl) {{\n    x.observe(outputEl, {childList: true});\n}}\n\n                        })                };                });            </script>        </div>"
     },
     "metadata": {},
     "output_type": "display_data"
    }
   ],
   "source": [
    "col_to_plot=['prima_dose','seconda_dose']\n",
    "for col in col_to_plot:\n",
    "    fig = px.histogram(dosi_tot, x='nome_area', y=col, color='nome_area', barmode='overlay',\n",
    "                       title=f\"#{col} per Regione\")\n",
    "    fig.update_layout(yaxis_title=f\"#{col}\", xaxis_title=None, width=800, height=600)\n",
    "    fig.show()"
   ],
   "metadata": {
    "collapsed": false,
    "pycharm": {
     "name": "#%%\n"
    }
   }
  },
  {
   "cell_type": "markdown",
   "source": [
    "## b) Distrubuzione numero di dosi in Italia<br>Dicembre 2020 a Febbraio 2021"
   ],
   "metadata": {
    "collapsed": false,
    "pycharm": {
     "name": "#%% md\n"
    }
   }
  },
  {
   "cell_type": "code",
   "execution_count": 41,
   "outputs": [
    {
     "data": {
      "application/vnd.plotly.v1+json": {
       "config": {
        "plotlyServerURL": "https://plot.ly"
       },
       "data": [
        {
         "hovertemplate": "variable=prima_dose<br>data_somministrazione=%{x|%B %d, %Y}<br>value=%{y}<extra></extra>",
         "legendgroup": "prima_dose",
         "line": {
          "color": "#636efa",
          "dash": "solid"
         },
         "mode": "lines",
         "name": "prima_dose",
         "orientation": "v",
         "showlegend": true,
         "type": "scatter",
         "x": [
          "2020-12-27",
          "2020-12-28",
          "2020-12-29",
          "2020-12-30",
          "2020-12-31",
          "2021-01-01",
          "2021-01-02",
          "2021-01-03",
          "2021-01-04",
          "2021-01-05",
          "2021-01-06",
          "2021-01-07",
          "2021-01-08",
          "2021-01-09",
          "2021-01-10",
          "2021-01-11",
          "2021-01-12",
          "2021-01-13",
          "2021-01-14",
          "2021-01-15",
          "2021-01-16",
          "2021-01-17",
          "2021-01-18",
          "2021-01-19",
          "2021-01-20",
          "2021-01-21",
          "2021-01-22",
          "2021-01-23",
          "2021-01-24",
          "2021-01-25",
          "2021-01-26",
          "2021-01-27",
          "2021-01-28",
          "2021-01-29",
          "2021-01-30",
          "2021-01-31",
          "2021-02-01",
          "2021-02-02",
          "2021-02-03",
          "2021-02-04",
          "2021-02-05",
          "2021-02-06",
          "2021-02-07",
          "2021-02-08",
          "2021-02-09",
          "2021-02-10",
          "2021-02-11",
          "2021-02-12",
          "2021-02-13",
          "2021-02-14",
          "2021-02-15",
          "2021-02-16",
          "2021-02-17",
          "2021-02-18",
          "2021-02-19",
          "2021-02-20",
          "2021-02-21",
          "2021-02-22",
          "2021-02-23",
          "2021-02-24",
          "2021-02-25",
          "2021-02-26"
         ],
         "xaxis": "x",
         "y": [
          7014,
          972,
          928,
          4668,
          25261,
          11038,
          38488,
          35112,
          68318,
          79431,
          65102,
          91778,
          95218,
          86796,
          60305,
          80588,
          81338,
          93195,
          92361,
          87112,
          63487,
          33251,
          36340,
          28168,
          21825,
          12375,
          10264,
          4654,
          2224,
          3892,
          3465,
          5241,
          3707,
          3723,
          3523,
          2276,
          3783,
          5144,
          7735,
          11619,
          14313,
          12292,
          8351,
          24075,
          31243,
          41822,
          48625,
          50328,
          37590,
          18711,
          46081,
          50545,
          52535,
          59374,
          61105,
          46539,
          32841,
          69467,
          69060,
          76507,
          73592,
          67149
         ],
         "yaxis": "y"
        },
        {
         "hovertemplate": "variable=seconda_dose<br>data_somministrazione=%{x|%B %d, %Y}<br>value=%{y}<extra></extra>",
         "legendgroup": "seconda_dose",
         "line": {
          "color": "#EF553B",
          "dash": "solid"
         },
         "mode": "lines",
         "name": "seconda_dose",
         "orientation": "v",
         "showlegend": true,
         "type": "scatter",
         "x": [
          "2020-12-27",
          "2020-12-28",
          "2020-12-29",
          "2020-12-30",
          "2020-12-31",
          "2021-01-01",
          "2021-01-02",
          "2021-01-03",
          "2021-01-04",
          "2021-01-05",
          "2021-01-06",
          "2021-01-07",
          "2021-01-08",
          "2021-01-09",
          "2021-01-10",
          "2021-01-11",
          "2021-01-12",
          "2021-01-13",
          "2021-01-14",
          "2021-01-15",
          "2021-01-16",
          "2021-01-17",
          "2021-01-18",
          "2021-01-19",
          "2021-01-20",
          "2021-01-21",
          "2021-01-22",
          "2021-01-23",
          "2021-01-24",
          "2021-01-25",
          "2021-01-26",
          "2021-01-27",
          "2021-01-28",
          "2021-01-29",
          "2021-01-30",
          "2021-01-31",
          "2021-02-01",
          "2021-02-02",
          "2021-02-03",
          "2021-02-04",
          "2021-02-05",
          "2021-02-06",
          "2021-02-07",
          "2021-02-08",
          "2021-02-09",
          "2021-02-10",
          "2021-02-11",
          "2021-02-12",
          "2021-02-13",
          "2021-02-14",
          "2021-02-15",
          "2021-02-16",
          "2021-02-17",
          "2021-02-18",
          "2021-02-19",
          "2021-02-20",
          "2021-02-21",
          "2021-02-22",
          "2021-02-23",
          "2021-02-24",
          "2021-02-25",
          "2021-02-26"
         ],
         "xaxis": "x",
         "y": [
          0,
          0,
          0,
          0,
          0,
          0,
          0,
          0,
          0,
          0,
          0,
          0,
          0,
          0,
          0,
          0,
          0,
          0,
          0,
          0,
          0,
          2798,
          4403,
          1694,
          4472,
          19440,
          13890,
          32683,
          30591,
          63937,
          75382,
          64374,
          88472,
          92254,
          85811,
          56731,
          80596,
          80771,
          89337,
          92696,
          87362,
          61016,
          31114,
          38980,
          30994,
          26486,
          18003,
          12995,
          5275,
          2082,
          4337,
          3558,
          5825,
          4495,
          4047,
          2739,
          1427,
          4659,
          4378,
          7209,
          10760,
          11584
         ],
         "yaxis": "y"
        }
       ],
       "layout": {
        "height": 500,
        "legend": {
         "title": {
          "text": "variable"
         },
         "tracegroupgap": 0
        },
        "template": {
         "data": {
          "bar": [
           {
            "error_x": {
             "color": "#2a3f5f"
            },
            "error_y": {
             "color": "#2a3f5f"
            },
            "marker": {
             "line": {
              "color": "#E5ECF6",
              "width": 0.5
             }
            },
            "type": "bar"
           }
          ],
          "barpolar": [
           {
            "marker": {
             "line": {
              "color": "#E5ECF6",
              "width": 0.5
             }
            },
            "type": "barpolar"
           }
          ],
          "carpet": [
           {
            "aaxis": {
             "endlinecolor": "#2a3f5f",
             "gridcolor": "white",
             "linecolor": "white",
             "minorgridcolor": "white",
             "startlinecolor": "#2a3f5f"
            },
            "baxis": {
             "endlinecolor": "#2a3f5f",
             "gridcolor": "white",
             "linecolor": "white",
             "minorgridcolor": "white",
             "startlinecolor": "#2a3f5f"
            },
            "type": "carpet"
           }
          ],
          "choropleth": [
           {
            "colorbar": {
             "outlinewidth": 0,
             "ticks": ""
            },
            "type": "choropleth"
           }
          ],
          "contour": [
           {
            "colorbar": {
             "outlinewidth": 0,
             "ticks": ""
            },
            "colorscale": [
             [
              0.0,
              "#0d0887"
             ],
             [
              0.1111111111111111,
              "#46039f"
             ],
             [
              0.2222222222222222,
              "#7201a8"
             ],
             [
              0.3333333333333333,
              "#9c179e"
             ],
             [
              0.4444444444444444,
              "#bd3786"
             ],
             [
              0.5555555555555556,
              "#d8576b"
             ],
             [
              0.6666666666666666,
              "#ed7953"
             ],
             [
              0.7777777777777778,
              "#fb9f3a"
             ],
             [
              0.8888888888888888,
              "#fdca26"
             ],
             [
              1.0,
              "#f0f921"
             ]
            ],
            "type": "contour"
           }
          ],
          "contourcarpet": [
           {
            "colorbar": {
             "outlinewidth": 0,
             "ticks": ""
            },
            "type": "contourcarpet"
           }
          ],
          "heatmap": [
           {
            "colorbar": {
             "outlinewidth": 0,
             "ticks": ""
            },
            "colorscale": [
             [
              0.0,
              "#0d0887"
             ],
             [
              0.1111111111111111,
              "#46039f"
             ],
             [
              0.2222222222222222,
              "#7201a8"
             ],
             [
              0.3333333333333333,
              "#9c179e"
             ],
             [
              0.4444444444444444,
              "#bd3786"
             ],
             [
              0.5555555555555556,
              "#d8576b"
             ],
             [
              0.6666666666666666,
              "#ed7953"
             ],
             [
              0.7777777777777778,
              "#fb9f3a"
             ],
             [
              0.8888888888888888,
              "#fdca26"
             ],
             [
              1.0,
              "#f0f921"
             ]
            ],
            "type": "heatmap"
           }
          ],
          "heatmapgl": [
           {
            "colorbar": {
             "outlinewidth": 0,
             "ticks": ""
            },
            "colorscale": [
             [
              0.0,
              "#0d0887"
             ],
             [
              0.1111111111111111,
              "#46039f"
             ],
             [
              0.2222222222222222,
              "#7201a8"
             ],
             [
              0.3333333333333333,
              "#9c179e"
             ],
             [
              0.4444444444444444,
              "#bd3786"
             ],
             [
              0.5555555555555556,
              "#d8576b"
             ],
             [
              0.6666666666666666,
              "#ed7953"
             ],
             [
              0.7777777777777778,
              "#fb9f3a"
             ],
             [
              0.8888888888888888,
              "#fdca26"
             ],
             [
              1.0,
              "#f0f921"
             ]
            ],
            "type": "heatmapgl"
           }
          ],
          "histogram": [
           {
            "marker": {
             "colorbar": {
              "outlinewidth": 0,
              "ticks": ""
             }
            },
            "type": "histogram"
           }
          ],
          "histogram2d": [
           {
            "colorbar": {
             "outlinewidth": 0,
             "ticks": ""
            },
            "colorscale": [
             [
              0.0,
              "#0d0887"
             ],
             [
              0.1111111111111111,
              "#46039f"
             ],
             [
              0.2222222222222222,
              "#7201a8"
             ],
             [
              0.3333333333333333,
              "#9c179e"
             ],
             [
              0.4444444444444444,
              "#bd3786"
             ],
             [
              0.5555555555555556,
              "#d8576b"
             ],
             [
              0.6666666666666666,
              "#ed7953"
             ],
             [
              0.7777777777777778,
              "#fb9f3a"
             ],
             [
              0.8888888888888888,
              "#fdca26"
             ],
             [
              1.0,
              "#f0f921"
             ]
            ],
            "type": "histogram2d"
           }
          ],
          "histogram2dcontour": [
           {
            "colorbar": {
             "outlinewidth": 0,
             "ticks": ""
            },
            "colorscale": [
             [
              0.0,
              "#0d0887"
             ],
             [
              0.1111111111111111,
              "#46039f"
             ],
             [
              0.2222222222222222,
              "#7201a8"
             ],
             [
              0.3333333333333333,
              "#9c179e"
             ],
             [
              0.4444444444444444,
              "#bd3786"
             ],
             [
              0.5555555555555556,
              "#d8576b"
             ],
             [
              0.6666666666666666,
              "#ed7953"
             ],
             [
              0.7777777777777778,
              "#fb9f3a"
             ],
             [
              0.8888888888888888,
              "#fdca26"
             ],
             [
              1.0,
              "#f0f921"
             ]
            ],
            "type": "histogram2dcontour"
           }
          ],
          "mesh3d": [
           {
            "colorbar": {
             "outlinewidth": 0,
             "ticks": ""
            },
            "type": "mesh3d"
           }
          ],
          "parcoords": [
           {
            "line": {
             "colorbar": {
              "outlinewidth": 0,
              "ticks": ""
             }
            },
            "type": "parcoords"
           }
          ],
          "pie": [
           {
            "automargin": true,
            "type": "pie"
           }
          ],
          "scatter": [
           {
            "marker": {
             "colorbar": {
              "outlinewidth": 0,
              "ticks": ""
             }
            },
            "type": "scatter"
           }
          ],
          "scatter3d": [
           {
            "line": {
             "colorbar": {
              "outlinewidth": 0,
              "ticks": ""
             }
            },
            "marker": {
             "colorbar": {
              "outlinewidth": 0,
              "ticks": ""
             }
            },
            "type": "scatter3d"
           }
          ],
          "scattercarpet": [
           {
            "marker": {
             "colorbar": {
              "outlinewidth": 0,
              "ticks": ""
             }
            },
            "type": "scattercarpet"
           }
          ],
          "scattergeo": [
           {
            "marker": {
             "colorbar": {
              "outlinewidth": 0,
              "ticks": ""
             }
            },
            "type": "scattergeo"
           }
          ],
          "scattergl": [
           {
            "marker": {
             "colorbar": {
              "outlinewidth": 0,
              "ticks": ""
             }
            },
            "type": "scattergl"
           }
          ],
          "scattermapbox": [
           {
            "marker": {
             "colorbar": {
              "outlinewidth": 0,
              "ticks": ""
             }
            },
            "type": "scattermapbox"
           }
          ],
          "scatterpolar": [
           {
            "marker": {
             "colorbar": {
              "outlinewidth": 0,
              "ticks": ""
             }
            },
            "type": "scatterpolar"
           }
          ],
          "scatterpolargl": [
           {
            "marker": {
             "colorbar": {
              "outlinewidth": 0,
              "ticks": ""
             }
            },
            "type": "scatterpolargl"
           }
          ],
          "scatterternary": [
           {
            "marker": {
             "colorbar": {
              "outlinewidth": 0,
              "ticks": ""
             }
            },
            "type": "scatterternary"
           }
          ],
          "surface": [
           {
            "colorbar": {
             "outlinewidth": 0,
             "ticks": ""
            },
            "colorscale": [
             [
              0.0,
              "#0d0887"
             ],
             [
              0.1111111111111111,
              "#46039f"
             ],
             [
              0.2222222222222222,
              "#7201a8"
             ],
             [
              0.3333333333333333,
              "#9c179e"
             ],
             [
              0.4444444444444444,
              "#bd3786"
             ],
             [
              0.5555555555555556,
              "#d8576b"
             ],
             [
              0.6666666666666666,
              "#ed7953"
             ],
             [
              0.7777777777777778,
              "#fb9f3a"
             ],
             [
              0.8888888888888888,
              "#fdca26"
             ],
             [
              1.0,
              "#f0f921"
             ]
            ],
            "type": "surface"
           }
          ],
          "table": [
           {
            "cells": {
             "fill": {
              "color": "#EBF0F8"
             },
             "line": {
              "color": "white"
             }
            },
            "header": {
             "fill": {
              "color": "#C8D4E3"
             },
             "line": {
              "color": "white"
             }
            },
            "type": "table"
           }
          ]
         },
         "layout": {
          "annotationdefaults": {
           "arrowcolor": "#2a3f5f",
           "arrowhead": 0,
           "arrowwidth": 1
          },
          "autotypenumbers": "strict",
          "coloraxis": {
           "colorbar": {
            "outlinewidth": 0,
            "ticks": ""
           }
          },
          "colorscale": {
           "diverging": [
            [
             0,
             "#8e0152"
            ],
            [
             0.1,
             "#c51b7d"
            ],
            [
             0.2,
             "#de77ae"
            ],
            [
             0.3,
             "#f1b6da"
            ],
            [
             0.4,
             "#fde0ef"
            ],
            [
             0.5,
             "#f7f7f7"
            ],
            [
             0.6,
             "#e6f5d0"
            ],
            [
             0.7,
             "#b8e186"
            ],
            [
             0.8,
             "#7fbc41"
            ],
            [
             0.9,
             "#4d9221"
            ],
            [
             1,
             "#276419"
            ]
           ],
           "sequential": [
            [
             0.0,
             "#0d0887"
            ],
            [
             0.1111111111111111,
             "#46039f"
            ],
            [
             0.2222222222222222,
             "#7201a8"
            ],
            [
             0.3333333333333333,
             "#9c179e"
            ],
            [
             0.4444444444444444,
             "#bd3786"
            ],
            [
             0.5555555555555556,
             "#d8576b"
            ],
            [
             0.6666666666666666,
             "#ed7953"
            ],
            [
             0.7777777777777778,
             "#fb9f3a"
            ],
            [
             0.8888888888888888,
             "#fdca26"
            ],
            [
             1.0,
             "#f0f921"
            ]
           ],
           "sequentialminus": [
            [
             0.0,
             "#0d0887"
            ],
            [
             0.1111111111111111,
             "#46039f"
            ],
            [
             0.2222222222222222,
             "#7201a8"
            ],
            [
             0.3333333333333333,
             "#9c179e"
            ],
            [
             0.4444444444444444,
             "#bd3786"
            ],
            [
             0.5555555555555556,
             "#d8576b"
            ],
            [
             0.6666666666666666,
             "#ed7953"
            ],
            [
             0.7777777777777778,
             "#fb9f3a"
            ],
            [
             0.8888888888888888,
             "#fdca26"
            ],
            [
             1.0,
             "#f0f921"
            ]
           ]
          },
          "colorway": [
           "#636efa",
           "#EF553B",
           "#00cc96",
           "#ab63fa",
           "#FFA15A",
           "#19d3f3",
           "#FF6692",
           "#B6E880",
           "#FF97FF",
           "#FECB52"
          ],
          "font": {
           "color": "#2a3f5f"
          },
          "geo": {
           "bgcolor": "white",
           "lakecolor": "white",
           "landcolor": "#E5ECF6",
           "showlakes": true,
           "showland": true,
           "subunitcolor": "white"
          },
          "hoverlabel": {
           "align": "left"
          },
          "hovermode": "closest",
          "mapbox": {
           "style": "light"
          },
          "paper_bgcolor": "white",
          "plot_bgcolor": "#E5ECF6",
          "polar": {
           "angularaxis": {
            "gridcolor": "white",
            "linecolor": "white",
            "ticks": ""
           },
           "bgcolor": "#E5ECF6",
           "radialaxis": {
            "gridcolor": "white",
            "linecolor": "white",
            "ticks": ""
           }
          },
          "scene": {
           "xaxis": {
            "backgroundcolor": "#E5ECF6",
            "gridcolor": "white",
            "gridwidth": 2,
            "linecolor": "white",
            "showbackground": true,
            "ticks": "",
            "zerolinecolor": "white"
           },
           "yaxis": {
            "backgroundcolor": "#E5ECF6",
            "gridcolor": "white",
            "gridwidth": 2,
            "linecolor": "white",
            "showbackground": true,
            "ticks": "",
            "zerolinecolor": "white"
           },
           "zaxis": {
            "backgroundcolor": "#E5ECF6",
            "gridcolor": "white",
            "gridwidth": 2,
            "linecolor": "white",
            "showbackground": true,
            "ticks": "",
            "zerolinecolor": "white"
           }
          },
          "shapedefaults": {
           "line": {
            "color": "#2a3f5f"
           }
          },
          "ternary": {
           "aaxis": {
            "gridcolor": "white",
            "linecolor": "white",
            "ticks": ""
           },
           "baxis": {
            "gridcolor": "white",
            "linecolor": "white",
            "ticks": ""
           },
           "bgcolor": "#E5ECF6",
           "caxis": {
            "gridcolor": "white",
            "linecolor": "white",
            "ticks": ""
           }
          },
          "title": {
           "x": 0.05
          },
          "xaxis": {
           "automargin": true,
           "gridcolor": "white",
           "linecolor": "white",
           "ticks": "",
           "title": {
            "standoff": 15
           },
           "zerolinecolor": "white",
           "zerolinewidth": 2
          },
          "yaxis": {
           "automargin": true,
           "gridcolor": "white",
           "linecolor": "white",
           "ticks": "",
           "title": {
            "standoff": 15
           },
           "zerolinecolor": "white",
           "zerolinewidth": 2
          }
         }
        },
        "title": {
         "text": "#dosi Italia"
        },
        "width": 1000,
        "xaxis": {
         "anchor": "y",
         "domain": [
          0.0,
          1.0
         ],
         "title": {}
        },
        "yaxis": {
         "anchor": "x",
         "domain": [
          0.0,
          1.0
         ],
         "title": {
          "text": "numero di dosi"
         }
        }
       }
      },
      "text/html": "<div>                            <div id=\"229741bb-c539-4d43-b55a-5d26f0c6e90f\" class=\"plotly-graph-div\" style=\"height:500px; width:1000px;\"></div>            <script type=\"text/javascript\">                require([\"plotly\"], function(Plotly) {                    window.PLOTLYENV=window.PLOTLYENV || {};                                    if (document.getElementById(\"229741bb-c539-4d43-b55a-5d26f0c6e90f\")) {                    Plotly.newPlot(                        \"229741bb-c539-4d43-b55a-5d26f0c6e90f\",                        [{\"hovertemplate\": \"variable=prima_dose<br>data_somministrazione=%{x|%B %d, %Y}<br>value=%{y}<extra></extra>\", \"legendgroup\": \"prima_dose\", \"line\": {\"color\": \"#636efa\", \"dash\": \"solid\"}, \"mode\": \"lines\", \"name\": \"prima_dose\", \"orientation\": \"v\", \"showlegend\": true, \"type\": \"scatter\", \"x\": [\"2020-12-27\", \"2020-12-28\", \"2020-12-29\", \"2020-12-30\", \"2020-12-31\", \"2021-01-01\", \"2021-01-02\", \"2021-01-03\", \"2021-01-04\", \"2021-01-05\", \"2021-01-06\", \"2021-01-07\", \"2021-01-08\", \"2021-01-09\", \"2021-01-10\", \"2021-01-11\", \"2021-01-12\", \"2021-01-13\", \"2021-01-14\", \"2021-01-15\", \"2021-01-16\", \"2021-01-17\", \"2021-01-18\", \"2021-01-19\", \"2021-01-20\", \"2021-01-21\", \"2021-01-22\", \"2021-01-23\", \"2021-01-24\", \"2021-01-25\", \"2021-01-26\", \"2021-01-27\", \"2021-01-28\", \"2021-01-29\", \"2021-01-30\", \"2021-01-31\", \"2021-02-01\", \"2021-02-02\", \"2021-02-03\", \"2021-02-04\", \"2021-02-05\", \"2021-02-06\", \"2021-02-07\", \"2021-02-08\", \"2021-02-09\", \"2021-02-10\", \"2021-02-11\", \"2021-02-12\", \"2021-02-13\", \"2021-02-14\", \"2021-02-15\", \"2021-02-16\", \"2021-02-17\", \"2021-02-18\", \"2021-02-19\", \"2021-02-20\", \"2021-02-21\", \"2021-02-22\", \"2021-02-23\", \"2021-02-24\", \"2021-02-25\", \"2021-02-26\"], \"xaxis\": \"x\", \"y\": [7014, 972, 928, 4668, 25261, 11038, 38488, 35112, 68318, 79431, 65102, 91778, 95218, 86796, 60305, 80588, 81338, 93195, 92361, 87112, 63487, 33251, 36340, 28168, 21825, 12375, 10264, 4654, 2224, 3892, 3465, 5241, 3707, 3723, 3523, 2276, 3783, 5144, 7735, 11619, 14313, 12292, 8351, 24075, 31243, 41822, 48625, 50328, 37590, 18711, 46081, 50545, 52535, 59374, 61105, 46539, 32841, 69467, 69060, 76507, 73592, 67149], \"yaxis\": \"y\"}, {\"hovertemplate\": \"variable=seconda_dose<br>data_somministrazione=%{x|%B %d, %Y}<br>value=%{y}<extra></extra>\", \"legendgroup\": \"seconda_dose\", \"line\": {\"color\": \"#EF553B\", \"dash\": \"solid\"}, \"mode\": \"lines\", \"name\": \"seconda_dose\", \"orientation\": \"v\", \"showlegend\": true, \"type\": \"scatter\", \"x\": [\"2020-12-27\", \"2020-12-28\", \"2020-12-29\", \"2020-12-30\", \"2020-12-31\", \"2021-01-01\", \"2021-01-02\", \"2021-01-03\", \"2021-01-04\", \"2021-01-05\", \"2021-01-06\", \"2021-01-07\", \"2021-01-08\", \"2021-01-09\", \"2021-01-10\", \"2021-01-11\", \"2021-01-12\", \"2021-01-13\", \"2021-01-14\", \"2021-01-15\", \"2021-01-16\", \"2021-01-17\", \"2021-01-18\", \"2021-01-19\", \"2021-01-20\", \"2021-01-21\", \"2021-01-22\", \"2021-01-23\", \"2021-01-24\", \"2021-01-25\", \"2021-01-26\", \"2021-01-27\", \"2021-01-28\", \"2021-01-29\", \"2021-01-30\", \"2021-01-31\", \"2021-02-01\", \"2021-02-02\", \"2021-02-03\", \"2021-02-04\", \"2021-02-05\", \"2021-02-06\", \"2021-02-07\", \"2021-02-08\", \"2021-02-09\", \"2021-02-10\", \"2021-02-11\", \"2021-02-12\", \"2021-02-13\", \"2021-02-14\", \"2021-02-15\", \"2021-02-16\", \"2021-02-17\", \"2021-02-18\", \"2021-02-19\", \"2021-02-20\", \"2021-02-21\", \"2021-02-22\", \"2021-02-23\", \"2021-02-24\", \"2021-02-25\", \"2021-02-26\"], \"xaxis\": \"x\", \"y\": [0, 0, 0, 0, 0, 0, 0, 0, 0, 0, 0, 0, 0, 0, 0, 0, 0, 0, 0, 0, 0, 2798, 4403, 1694, 4472, 19440, 13890, 32683, 30591, 63937, 75382, 64374, 88472, 92254, 85811, 56731, 80596, 80771, 89337, 92696, 87362, 61016, 31114, 38980, 30994, 26486, 18003, 12995, 5275, 2082, 4337, 3558, 5825, 4495, 4047, 2739, 1427, 4659, 4378, 7209, 10760, 11584], \"yaxis\": \"y\"}],                        {\"height\": 500, \"legend\": {\"title\": {\"text\": \"variable\"}, \"tracegroupgap\": 0}, \"template\": {\"data\": {\"bar\": [{\"error_x\": {\"color\": \"#2a3f5f\"}, \"error_y\": {\"color\": \"#2a3f5f\"}, \"marker\": {\"line\": {\"color\": \"#E5ECF6\", \"width\": 0.5}}, \"type\": \"bar\"}], \"barpolar\": [{\"marker\": {\"line\": {\"color\": \"#E5ECF6\", \"width\": 0.5}}, \"type\": \"barpolar\"}], \"carpet\": [{\"aaxis\": {\"endlinecolor\": \"#2a3f5f\", \"gridcolor\": \"white\", \"linecolor\": \"white\", \"minorgridcolor\": \"white\", \"startlinecolor\": \"#2a3f5f\"}, \"baxis\": {\"endlinecolor\": \"#2a3f5f\", \"gridcolor\": \"white\", \"linecolor\": \"white\", \"minorgridcolor\": \"white\", \"startlinecolor\": \"#2a3f5f\"}, \"type\": \"carpet\"}], \"choropleth\": [{\"colorbar\": {\"outlinewidth\": 0, \"ticks\": \"\"}, \"type\": \"choropleth\"}], \"contour\": [{\"colorbar\": {\"outlinewidth\": 0, \"ticks\": \"\"}, \"colorscale\": [[0.0, \"#0d0887\"], [0.1111111111111111, \"#46039f\"], [0.2222222222222222, \"#7201a8\"], [0.3333333333333333, \"#9c179e\"], [0.4444444444444444, \"#bd3786\"], [0.5555555555555556, \"#d8576b\"], [0.6666666666666666, \"#ed7953\"], [0.7777777777777778, \"#fb9f3a\"], [0.8888888888888888, \"#fdca26\"], [1.0, \"#f0f921\"]], \"type\": \"contour\"}], \"contourcarpet\": [{\"colorbar\": {\"outlinewidth\": 0, \"ticks\": \"\"}, \"type\": \"contourcarpet\"}], \"heatmap\": [{\"colorbar\": {\"outlinewidth\": 0, \"ticks\": \"\"}, \"colorscale\": [[0.0, \"#0d0887\"], [0.1111111111111111, \"#46039f\"], [0.2222222222222222, \"#7201a8\"], [0.3333333333333333, \"#9c179e\"], [0.4444444444444444, \"#bd3786\"], [0.5555555555555556, \"#d8576b\"], [0.6666666666666666, \"#ed7953\"], [0.7777777777777778, \"#fb9f3a\"], [0.8888888888888888, \"#fdca26\"], [1.0, \"#f0f921\"]], \"type\": \"heatmap\"}], \"heatmapgl\": [{\"colorbar\": {\"outlinewidth\": 0, \"ticks\": \"\"}, \"colorscale\": [[0.0, \"#0d0887\"], [0.1111111111111111, \"#46039f\"], [0.2222222222222222, \"#7201a8\"], [0.3333333333333333, \"#9c179e\"], [0.4444444444444444, \"#bd3786\"], [0.5555555555555556, \"#d8576b\"], [0.6666666666666666, \"#ed7953\"], [0.7777777777777778, \"#fb9f3a\"], [0.8888888888888888, \"#fdca26\"], [1.0, \"#f0f921\"]], \"type\": \"heatmapgl\"}], \"histogram\": [{\"marker\": {\"colorbar\": {\"outlinewidth\": 0, \"ticks\": \"\"}}, \"type\": \"histogram\"}], \"histogram2d\": [{\"colorbar\": {\"outlinewidth\": 0, \"ticks\": \"\"}, \"colorscale\": [[0.0, \"#0d0887\"], [0.1111111111111111, \"#46039f\"], [0.2222222222222222, \"#7201a8\"], [0.3333333333333333, \"#9c179e\"], [0.4444444444444444, \"#bd3786\"], [0.5555555555555556, \"#d8576b\"], [0.6666666666666666, \"#ed7953\"], [0.7777777777777778, \"#fb9f3a\"], [0.8888888888888888, \"#fdca26\"], [1.0, \"#f0f921\"]], \"type\": \"histogram2d\"}], \"histogram2dcontour\": [{\"colorbar\": {\"outlinewidth\": 0, \"ticks\": \"\"}, \"colorscale\": [[0.0, \"#0d0887\"], [0.1111111111111111, \"#46039f\"], [0.2222222222222222, \"#7201a8\"], [0.3333333333333333, \"#9c179e\"], [0.4444444444444444, \"#bd3786\"], [0.5555555555555556, \"#d8576b\"], [0.6666666666666666, \"#ed7953\"], [0.7777777777777778, \"#fb9f3a\"], [0.8888888888888888, \"#fdca26\"], [1.0, \"#f0f921\"]], \"type\": \"histogram2dcontour\"}], \"mesh3d\": [{\"colorbar\": {\"outlinewidth\": 0, \"ticks\": \"\"}, \"type\": \"mesh3d\"}], \"parcoords\": [{\"line\": {\"colorbar\": {\"outlinewidth\": 0, \"ticks\": \"\"}}, \"type\": \"parcoords\"}], \"pie\": [{\"automargin\": true, \"type\": \"pie\"}], \"scatter\": [{\"marker\": {\"colorbar\": {\"outlinewidth\": 0, \"ticks\": \"\"}}, \"type\": \"scatter\"}], \"scatter3d\": [{\"line\": {\"colorbar\": {\"outlinewidth\": 0, \"ticks\": \"\"}}, \"marker\": {\"colorbar\": {\"outlinewidth\": 0, \"ticks\": \"\"}}, \"type\": \"scatter3d\"}], \"scattercarpet\": [{\"marker\": {\"colorbar\": {\"outlinewidth\": 0, \"ticks\": \"\"}}, \"type\": \"scattercarpet\"}], \"scattergeo\": [{\"marker\": {\"colorbar\": {\"outlinewidth\": 0, \"ticks\": \"\"}}, \"type\": \"scattergeo\"}], \"scattergl\": [{\"marker\": {\"colorbar\": {\"outlinewidth\": 0, \"ticks\": \"\"}}, \"type\": \"scattergl\"}], \"scattermapbox\": [{\"marker\": {\"colorbar\": {\"outlinewidth\": 0, \"ticks\": \"\"}}, \"type\": \"scattermapbox\"}], \"scatterpolar\": [{\"marker\": {\"colorbar\": {\"outlinewidth\": 0, \"ticks\": \"\"}}, \"type\": \"scatterpolar\"}], \"scatterpolargl\": [{\"marker\": {\"colorbar\": {\"outlinewidth\": 0, \"ticks\": \"\"}}, \"type\": \"scatterpolargl\"}], \"scatterternary\": [{\"marker\": {\"colorbar\": {\"outlinewidth\": 0, \"ticks\": \"\"}}, \"type\": \"scatterternary\"}], \"surface\": [{\"colorbar\": {\"outlinewidth\": 0, \"ticks\": \"\"}, \"colorscale\": [[0.0, \"#0d0887\"], [0.1111111111111111, \"#46039f\"], [0.2222222222222222, \"#7201a8\"], [0.3333333333333333, \"#9c179e\"], [0.4444444444444444, \"#bd3786\"], [0.5555555555555556, \"#d8576b\"], [0.6666666666666666, \"#ed7953\"], [0.7777777777777778, \"#fb9f3a\"], [0.8888888888888888, \"#fdca26\"], [1.0, \"#f0f921\"]], \"type\": \"surface\"}], \"table\": [{\"cells\": {\"fill\": {\"color\": \"#EBF0F8\"}, \"line\": {\"color\": \"white\"}}, \"header\": {\"fill\": {\"color\": \"#C8D4E3\"}, \"line\": {\"color\": \"white\"}}, \"type\": \"table\"}]}, \"layout\": {\"annotationdefaults\": {\"arrowcolor\": \"#2a3f5f\", \"arrowhead\": 0, \"arrowwidth\": 1}, \"autotypenumbers\": \"strict\", \"coloraxis\": {\"colorbar\": {\"outlinewidth\": 0, \"ticks\": \"\"}}, \"colorscale\": {\"diverging\": [[0, \"#8e0152\"], [0.1, \"#c51b7d\"], [0.2, \"#de77ae\"], [0.3, \"#f1b6da\"], [0.4, \"#fde0ef\"], [0.5, \"#f7f7f7\"], [0.6, \"#e6f5d0\"], [0.7, \"#b8e186\"], [0.8, \"#7fbc41\"], [0.9, \"#4d9221\"], [1, \"#276419\"]], \"sequential\": [[0.0, \"#0d0887\"], [0.1111111111111111, \"#46039f\"], [0.2222222222222222, \"#7201a8\"], [0.3333333333333333, \"#9c179e\"], [0.4444444444444444, \"#bd3786\"], [0.5555555555555556, \"#d8576b\"], [0.6666666666666666, \"#ed7953\"], [0.7777777777777778, \"#fb9f3a\"], [0.8888888888888888, \"#fdca26\"], [1.0, \"#f0f921\"]], \"sequentialminus\": [[0.0, \"#0d0887\"], [0.1111111111111111, \"#46039f\"], [0.2222222222222222, \"#7201a8\"], [0.3333333333333333, \"#9c179e\"], [0.4444444444444444, \"#bd3786\"], [0.5555555555555556, \"#d8576b\"], [0.6666666666666666, \"#ed7953\"], [0.7777777777777778, \"#fb9f3a\"], [0.8888888888888888, \"#fdca26\"], [1.0, \"#f0f921\"]]}, \"colorway\": [\"#636efa\", \"#EF553B\", \"#00cc96\", \"#ab63fa\", \"#FFA15A\", \"#19d3f3\", \"#FF6692\", \"#B6E880\", \"#FF97FF\", \"#FECB52\"], \"font\": {\"color\": \"#2a3f5f\"}, \"geo\": {\"bgcolor\": \"white\", \"lakecolor\": \"white\", \"landcolor\": \"#E5ECF6\", \"showlakes\": true, \"showland\": true, \"subunitcolor\": \"white\"}, \"hoverlabel\": {\"align\": \"left\"}, \"hovermode\": \"closest\", \"mapbox\": {\"style\": \"light\"}, \"paper_bgcolor\": \"white\", \"plot_bgcolor\": \"#E5ECF6\", \"polar\": {\"angularaxis\": {\"gridcolor\": \"white\", \"linecolor\": \"white\", \"ticks\": \"\"}, \"bgcolor\": \"#E5ECF6\", \"radialaxis\": {\"gridcolor\": \"white\", \"linecolor\": \"white\", \"ticks\": \"\"}}, \"scene\": {\"xaxis\": {\"backgroundcolor\": \"#E5ECF6\", \"gridcolor\": \"white\", \"gridwidth\": 2, \"linecolor\": \"white\", \"showbackground\": true, \"ticks\": \"\", \"zerolinecolor\": \"white\"}, \"yaxis\": {\"backgroundcolor\": \"#E5ECF6\", \"gridcolor\": \"white\", \"gridwidth\": 2, \"linecolor\": \"white\", \"showbackground\": true, \"ticks\": \"\", \"zerolinecolor\": \"white\"}, \"zaxis\": {\"backgroundcolor\": \"#E5ECF6\", \"gridcolor\": \"white\", \"gridwidth\": 2, \"linecolor\": \"white\", \"showbackground\": true, \"ticks\": \"\", \"zerolinecolor\": \"white\"}}, \"shapedefaults\": {\"line\": {\"color\": \"#2a3f5f\"}}, \"ternary\": {\"aaxis\": {\"gridcolor\": \"white\", \"linecolor\": \"white\", \"ticks\": \"\"}, \"baxis\": {\"gridcolor\": \"white\", \"linecolor\": \"white\", \"ticks\": \"\"}, \"bgcolor\": \"#E5ECF6\", \"caxis\": {\"gridcolor\": \"white\", \"linecolor\": \"white\", \"ticks\": \"\"}}, \"title\": {\"x\": 0.05}, \"xaxis\": {\"automargin\": true, \"gridcolor\": \"white\", \"linecolor\": \"white\", \"ticks\": \"\", \"title\": {\"standoff\": 15}, \"zerolinecolor\": \"white\", \"zerolinewidth\": 2}, \"yaxis\": {\"automargin\": true, \"gridcolor\": \"white\", \"linecolor\": \"white\", \"ticks\": \"\", \"title\": {\"standoff\": 15}, \"zerolinecolor\": \"white\", \"zerolinewidth\": 2}}}, \"title\": {\"text\": \"#dosi Italia\"}, \"width\": 1000, \"xaxis\": {\"anchor\": \"y\", \"domain\": [0.0, 1.0], \"title\": {}}, \"yaxis\": {\"anchor\": \"x\", \"domain\": [0.0, 1.0], \"title\": {\"text\": \"numero di dosi\"}}},                        {\"responsive\": true}                    ).then(function(){\n                            \nvar gd = document.getElementById('229741bb-c539-4d43-b55a-5d26f0c6e90f');\nvar x = new MutationObserver(function (mutations, observer) {{\n        var display = window.getComputedStyle(gd).display;\n        if (!display || display === 'none') {{\n            console.log([gd, 'removed!']);\n            Plotly.purge(gd);\n            observer.disconnect();\n        }}\n}});\n\n// Listen for the removal of the full notebook cells\nvar notebookContainer = gd.closest('#notebook-container');\nif (notebookContainer) {{\n    x.observe(notebookContainer, {childList: true});\n}}\n\n// Listen for the clearing of the current output cell\nvar outputEl = gd.closest('.output');\nif (outputEl) {{\n    x.observe(outputEl, {childList: true});\n}}\n\n                        })                };                });            </script>        </div>"
     },
     "metadata": {},
     "output_type": "display_data"
    }
   ],
   "source": [
    "date_somministrazioni = pfizer_biotech[['data_somministrazione', 'prima_dose', 'seconda_dose','nome_area']].groupby(['data_somministrazione']).sum()\n",
    "date_somministrazioni.reset_index(inplace=True)\n",
    "fig = px.line(date_somministrazioni, x=\"data_somministrazione\", y=date_somministrazioni.columns,\n",
    "              hover_data={\"data_somministrazione\": \"|%B %d, %Y\"},\n",
    "              title='#dosi Italia')\n",
    "\n",
    "fig.update_layout(yaxis_title='numero di dosi',\n",
    "                  xaxis_title=None,\n",
    "                  width=1000,\n",
    "                  height=500)\n",
    "fig.show()"
   ],
   "metadata": {
    "collapsed": false,
    "pycharm": {
     "name": "#%%\n"
    }
   }
  }
 ],
 "metadata": {
  "kernelspec": {
   "display_name": "Python 3",
   "language": "python",
   "name": "python3"
  },
  "language_info": {
   "codemirror_mode": {
    "name": "ipython",
    "version": 2
   },
   "file_extension": ".py",
   "mimetype": "text/x-python",
   "name": "python",
   "nbconvert_exporter": "python",
   "pygments_lexer": "ipython2",
   "version": "2.7.6"
  }
 },
 "nbformat": 4,
 "nbformat_minor": 0
}